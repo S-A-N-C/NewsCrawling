{
 "cells": [
  {
   "cell_type": "markdown",
   "metadata": {},
   "source": [
    "# India News Crawling- Finance"
   ]
  },
  {
   "cell_type": "code",
   "execution_count": 1,
   "metadata": {},
   "outputs": [
    {
     "name": "stderr",
     "output_type": "stream",
     "text": [
      "C:\\ProgramData\\Anaconda3\\lib\\site-packages\\requests\\__init__.py:89: RequestsDependencyWarning: urllib3 (1.26.11) or chardet (3.0.4) doesn't match a supported version!\n",
      "  warnings.warn(\"urllib3 ({}) or chardet ({}) doesn't match a supported \"\n"
     ]
    }
   ],
   "source": [
    "import requests\n",
    "from bs4 import BeautifulSoup\n",
    "from selenium import webdriver\n",
    "import time\n",
    "import pyautogui"
   ]
  },
  {
   "cell_type": "code",
   "execution_count": 12,
   "metadata": {},
   "outputs": [],
   "source": [
    "# res = requests.get('https://navbharattimes.indiatimes.com/business/business-news/articlelist/1215713388.cms')\n",
    "driver = webdriver.Chrome()\n",
    "url = 'https://navbharattimes.indiatimes.com/business/share-market/share-news/articlelist/2360940.cms?curpg=5'\n",
    "driver.get(url)\n",
    "driver.maximize_window()\n",
    "\n",
    "pyautogui.hotkey('shift','F10')\n",
    "time.sleep(1)\n",
    "for i in range(8):\n",
    "    pyautogui.hotkey('down')\n",
    "pyautogui.hotkey('enter') \n",
    "\n",
    "time.sleep(1)\n",
    "\n",
    "driver.execute_script(\"window.scrollTo(0, document.body.scrollHeight);\")\n",
    "\n",
    "time.sleep(28) # 이유는 동적으로 기사들이 생성이 되어서 스크롤을 다 내리고 나서 생길때까지 기다려야한다. \n",
    "\n",
    "for i in range(10):\n",
    "\n",
    "    driver.execute_script(\"window.scrollTo(0, window.scrollY - 800);\")\n",
    "    time.sleep(0.25)\n",
    "\n",
    "    driver.execute_script(\"window.scrollTo(0, window.scrollY - 500);\")\n",
    "    time.sleep(0.25)\n"
   ]
  },
  {
   "cell_type": "code",
   "execution_count": 13,
   "metadata": {},
   "outputs": [],
   "source": [
    "# soup = BeautifulSoup(res.content, 'html.parser')\n",
    "soup = BeautifulSoup(driver.page_source, 'html.parser')"
   ]
  },
  {
   "cell_type": "code",
   "execution_count": 14,
   "metadata": {},
   "outputs": [],
   "source": [
    "def news_link(tag, class_name):\n",
    "    div_link = soup.find_all(tag, {\"class\":class_name})\n",
    "\n",
    "    cell_line = []\n",
    "\n",
    "    for d in div_link:\n",
    "        links = d.find_all('a',href=True)\n",
    "        for i in links:\n",
    "            href = i.find('span', {\"class\":\"text_ellipsis\"})\n",
    "            try:\n",
    "                cell_line.append(href.get_text())\n",
    "            except:\n",
    "                pass\n",
    "    return cell_line       # img와 text에 href가 담겨있어서 2개씩 가져와버림 "
   ]
  },
  {
   "cell_type": "code",
   "execution_count": 15,
   "metadata": {},
   "outputs": [],
   "source": [
    "links_list = []\n",
    "links_list.append(news_link('div','row undefined'))\n",
    "links_list.append(news_link('div','row default'))"
   ]
  },
  {
   "cell_type": "code",
   "execution_count": 16,
   "metadata": {},
   "outputs": [
    {
     "name": "stdout",
     "output_type": "stream",
     "text": [
      "[[' 오늘의 비즈니스 팁: 오늘 LIC 주택 금융 및 Adani Enterprises를 주시하십시오. 강력한 수익이 있을 수 있습니다.', ' Multibagger 주식: 이 알려지지 않은 주식은 2주 만에 Rs.618에서 Rs.2 lakh를 벌어들였으며 투자자들에게 32,600%의 수익을 주었습니다.', ' 최고 추세 주식: 이 비료 회사의 주식은 최고 추세이며, 낮은 수준에서 45% 상승했으며 추가 성장의 신호입니다.', ' Share Market News: 주식시장 하락의 시대는 지났습니까? 인도 및 미국 시장의 부상으로 제기된 큰 질문', ' Share Market News: 이 의류 관련 회사의 주식은 투자자들을 부자로 만들었으며, 2년 동안 260%의 수익을 올렸으며 계속 상승할 것으로 예상됩니다.', ' 페니주식: 주식시장에서 고려식품을 비롯한 이들 기업의 주가는 상위권에 도달할 정도로 요동친다.', ' Zomato 공유: Zomato는 더 이상 Uber를 타지 않습니다. 무슨 일이 있었는지 알아보세요', ' 오늘의 비즈니스 팁: 오늘, Inox Leisure와 Adani Wilmar의 주식이 투자자에게 힘을 줄 수 있습니다. 이유가 무엇인지 알 수 있습니다.', ' 최고 추세 주식: 이 페인트 회사의 주식에 돌파구가 있고, 강세의 조짐이 있으며, 이익을 얻을 좋은 기회가 있습니다.', ' 가격 거래량 이탈: 이 주식에서 대량 구매가 나타나고 있습니다. 이익을 얻으려면 베팅할 수 있습니다.', ' Penny Stocks: Burnpur Cement를 포함한 이 5개 회사의 주식이 부자가 되었습니다. 전체 목록은 여기를 참조하세요.', ' 오늘의 비즈니스 팁: 오늘 Subex, Jubilant Pharmova 및 Paradeep Phosphates의 주식은 투자자의 가방을 채울 수 있습니다.'], [' Yes Bank 주식: Yes Bank 주가가 오늘 상승한 이유는 무엇입니까? 투자를 준비하는 사람은 여기를 알아두십시오.', ' Jhunjhunwala Stock News: 이 Rakesh Jhunjhunwala의 점유율은 한 달 만에 51%나 뛰었습니다. 기회를 놓치셨나요?', ' 최고 추세 주식: 이 화학 부문 주식은 추세이며, 강세의 완전한 신호가 보입니다. 이익을 얻을 수 있는 좋은 기회입니다.', ' 멀티배거 주식: 이 주식은 1년 만에 118%의 수익을 올렸고, 강세의 징후가 보입니다. 회사가 하는 일을 알고 있습니다.', ' 페니 주식: Burnpur Cement의 주식은 시장이 열리자 마자 20% 상승했습니다.', ' 주식 시장 예측: 나사라테크, 타타모터스...', ' Rakesh Jhunjhunwala 뉴스: Jhunjhunwala의 이 두 주식이 크게 뛰었습니다. 가지고 있습니까?', ' 가격 거래량 돌파: Metro Brands를 포함한 이 5개 주식은 투자자를 부자로 만들 수 있습니다.', ' 최고 추세 주식: 주식에 대해 Rs 115의 수익을 얻으려면 이 주식에 베팅하십시오.', ' 페니 주식: Kretto Syscon Ltd를 포함한 이 5개 주식은 투자자를 한 시간 만에 부자로 만들었습니다. 전체 목록은 여기에서 확인하세요.', ' 주식 시장 예측: 오늘날 SBI Life 및 Adani Gas를 포함한 이러한 주식에 베팅할 수 있으며, 강세의 큰 징후가 보입니다.', ' Bajaj Finance 공유 뉴스: 주당 1,000루피의 수익을 원하고 이 주식에 베팅하면 3일 만에 투자자를 부자로 만들 수 있습니다.', ' 가격 거래량 이탈: 이 주식에서 대량 구매가 나타나고 있습니다. 시장에서 이익을 얻으려면 이 목록을 참조하십시오.', ' Top Trending Stock: 이 철강 회사의 주식이 크게 뛰었습니다. 추가 성장의 징후가 있습니다. 목표가 무엇인지 알고 있습니다.', ' 시장 팁 공유: 오늘 이 페니 주식에서 상단 회로가 시작되었습니다. 풍부한 수익을 얻으려면 계속 주시하십시오.', \" 오늘의 비즈니스 팁: 오늘 Dr Reddy's Lab, Jubilant FoodWorks 및 TVS Motor의 주식이 투자자들의 무릎을 채울 수 있습니다.\", ' Bajaj Finance 점유율: Bajaj Finance 주가는 하루 만에 Rs 669 상승하여 시가 총액에서 LIC를 능가했습니다.', ' 최고 추세 주식: 이 방위 산업 주식은 상당히 강세이며, 기술 차트에서 강세의 신호이며, 목표가 무엇인지 알고 있습니다.', ' 페니 주식: Kore Foods를 포함한 이 Bhangar 주식은 오늘날 엄청난 성장을 보였습니다.', ' 주식 시장 팁: 이 주식은 한 달 동안 34% 급등했습니다. 이제 NSE에도 상장되어 있습니다. 회사가 하는 일을 알아보세요.', ' 오늘의 비즈니스 팁: 오늘 Biocon, Exide Industries 및 HAL의 주식을 주시하고 이유가 무엇인지 알아보십시오.', ' 가격 거래량 이탈: 이 주식에서 대량 구매가 나타났습니다. 강세의 좋은 신호가 있습니다. 기회를 놓치지 마십시오.', ' 최고 추세 주식: 이 Tata Group 회사의 주가 상승에 대한 좋은 신호, 목표 가격이 무엇인지 알고 있습니다.', ' 오늘의 비즈니스 팁: United Spirits, Tata Power 및 Wipro는 투자자에게 힘을 줄 수 있습니다.', ' 시장 뉴스 공유: 화학 부문의 이 몫에서 이익을 얻을 수 있는 좋은 기회가 있습니다.', ' 페니 주식: 주식 시장에서 하락했지만 Mukat Pipes를 포함한 이러한 Chavanni 주식은 흔들렸습니다.', ' Share Market Tips: 쌀 사업과 관련된 이 회사는 2년 만에 2829%의 수익률을 올렸고, 10,000은 2.92 lakh rupees가 되었습니다.', ' 오늘의 비즈니스 팁: 오늘 Axis Bank, Lupine 및 Macrotech 개발자는 투자자의 가방을 채울 수 있습니다. 이유가 무엇인지 알 수 있습니다.', ' Zomato 주가: Zomato는 투자자의 Rs 96,000 crore를 침몰합니다, 지금 주가가 얼마인지 아십시오', ' 가격 거래량 브레이크 아웃: 시장에서 수익을 얻고 싶다면 이 10개 종목에 주목하여 가격 볼륨 브레이크 아웃을 보여줍니다.', ' Share Market News: 이 친환경 석유화학 회사의 주가가 폭등하고, 지속 가능성이 충분하며, 목표 가격이 무엇인지 알고 있습니다.', ' 페니 주식: BKV Industries와 BKV Industries가 오늘 흔들렸습니다. 전체 목록 보기', ' 오늘의 비즈니스 팁: 오늘 Reliance, Kotak Mahindra, ICICI 및 Yes Bank의 주식이 가방을 채울 수 있습니다.', ' 최고 추세 주식: Balaji Amines 주가 5% 급등, 큰 수익을 원하면 내기를 할 수 있습니다', ' 페니 주식: Tamilnadu Telecommunications를 포함한 이 5개의 차니 주식은 투자자의 가방을 채웠습니다. 전체 목록은 여기를 참조하세요.', ' 가격 거래량 돌파: 힌두스탄 식품의 주가는 보유 여부에 관계없이 한 시간 만에 11% 상승했습니다.', ' 주식 시장 예측: 오늘날 Adani Gas와 BEL을 포함한 이들 주식에 좋은 강세 신호가 있으며, 이익을 얻을 수 있는 좋은 기회입니다.', ' 최고 추세 주식: 이 Tata Group 주식은 8% 상승했습니다. 큰 수익을 원한다면 베팅할 수 있습니다.', ' 페니 주식: Ontic Finserv를 포함한 이 차니 주식은 상위 서킷에 도달했습니다. 전체 목록 보기', ' 멀티배거 주식: 이 주식은 2년 동안 26루피에서 331루피를 벌어들였습니다. 가지고 있습니까?', ' 주식 시장 예측: Oil India 및 ITC를 포함한 이러한 주식의 큰 강세 신호는 내기를 할 수 있습니다.', ' 최고 추세 주식: Vedanta Ltd 투자자를 위한 은, 배당 발표 후 주가 6% 상승', ' 페니 주식: Viceroy Hotels를 포함한 이 차니 주식은 시장을 뒤흔들었고, 상위 회로에서 마감했습니다.', ' 가격 거래량 돌파: Piramal Enterprises를 포함한 7개 주식의 폭등, 목록에 누가 있는지 확인', ' 릴라이언스 인더스트리 점유율: 정부 결정으로 릴라이언스 점유율 급등, 시가총액 1700만 루피 돌파', ' 시장 예측 공유: 오늘 Varun Beverages와 Adani Transmission이 플레이할 수 있으며, 강세의 큰 징후가 보입니다.', ' Rakesh Jhunjhunwala 뉴스: Rakesh Jhunjhunwala는 이 Tata Group 회사의 30 lakh 주식을 매각했습니다. 이유가 무엇인지 압니다.', ' 최고 추세 주식: 이 회사의 점유율이 한 시간 만에 10% 상승했습니다.', ' 페니 주식: Parsvnath Developers를 포함한 이 5개의 차니 주식은 엉성한 수익을 올렸습니다. 누가 목록에 있는지 알 수 있습니다.', ' 멀티배거 점유율: 2년 전에 100만 달러를 투자했다면 오늘 1310만 달러에 플레이했을 것입니다.', ' 루피 하락: 루피가 사상 최저치에 도달하여 주식이 이익을 얻고 루피 약세로 인해 손실을 입을 것입니다.', ' 구글 주가: 구글 주가 2200~110달러, 이유가 뭔지 알아', ' 오늘날 Infosys와 Adani Transmission을 포함한 이들 주식은 좋은 징조를 보여 투자자들은 수익을 낼 준비가 되어 있어야 합니다', ' 최고 추세 주식: Affle India가 7% 이상 뛰었습니다.', ' 가격 거래량 돌파: Nazara Technologies를 포함한 이 10개 주식은 투자자를 부자로 만들었습니다. 누가 목록에 있는지 알 수 있습니다.', ' 페니 주식: Quantum Digital Vision India를 포함하여 이 5개의 차니 주식이 투자자의 가방을 채웠습니다. 전체 목록은 여기에서 확인하세요.', ' 시장 예측 공유: 오늘날 Maruti Suzuki 및 Bharat Dynamics와 같은 주식은 당신의 가방을 채우고 투자하고 수익을 올릴 수 있습니다!', ' 주식 시장이 하락하는 이유: 주식 시장은 이렇게 하락하지 않습니다. FPI는 7월에 지금까지 Rs 7400 crore 상당의 주식을 매각했습니다.', ' Share Market 최신 업데이트: 상위 10개 기업의 시가총액이 Rs 1.68 lakh crore 감소했습니다. 어느 회사가 얼마나 많은 손실을 입었는지 알 수 있습니다.', ' 루피 하락: TCS와 Infosys는 루피 하락의 혜택을 받을 것이며, 어떤 주식이 손해를 입을지 알 것입니다.', ' 멀티배거 주식: 이 고된 주식은 7월에 100% 이상 올랐다.', ' Gautam Adani 뉴스: Gautam Adani는 이스라엘에서 큰 거래를 했으며 부자 목록에 올랐다.', ' 가격 거래량 돌파: Tata Elxsi를 포함한 이 10개 주식은 강세를 보였고, 가격은 최대 6%까지 급등했습니다. 누가 목록에 있는지 알 수 있습니다.', ' Penny Stocks: First Fintec은 한 시간에 10%의 상승으로 상위 회로에서 마감되었으며 어느 회사의 주가가 흔들렸는지 알고 있습니다.', ' 최고 추세 주식: 이 주식은 아침에 10% 상승하여 한 시간 만에 투자자의 가방을 채웠습니다.', ' TCS 주가: TCS 주식은 52주 최저가로 1,000루피 저렴해지며 매수할 좋은 기회', ' Penny Stocks: Sybly Industries는 오늘 10% 급등했습니다. 이 회사들은 투자자들의 가방을 채웠습니다.', ' 최고 추세 주식: 이 양조 회사의 점유율이 3% 상승했습니다. 큰 수익을 원하면 돈을 투자할 수 있습니다.', ' 멀티배거 주식: 이 소형주 주식은 1년 만에 123%를 기록했습니다. 이 주식이 있습니까!', ' 주식 시장 예측: Gland Pharma 및 HCL Tech를 포함한 이러한 주식의 큰 하락 징후, 투자자는 조심해야 합니다', ' 인플레이션 데이터 미국: 미국에서 40년 만에 최고 수준의 인플레이션, 주식 시장 폭락, 금리 인상에 대한 두려움, 세계에 미칠 영향 알기', ' 가격 거래량 이탈 : Credit Analysis and Research Ltd를 포함한이 5 개 주식은 강세를 보였습니다. 지금 돈을 투자하면 큰 이익이있을 수 있습니다', ' 최고 추세 주식: BASF의 주가는 6% 상승했습니다. 가격이 얼마나 오를 수 있는지 알아보세요', ' 페니 주식: Olympic Card Ltd는 한 시간 만에 투자자의 가방을 채웠으며 오늘 어떤 페니 주식이 뛰었는지 알 수 있습니다.', ' 주식 시장 예측: 오늘날 Adani Gas 및 Blue Dart와 같은 주식에서 호황의 조짐이 있으며 투자자는 내기를 할 수 있습니다', ' 최고 추세 주식: AstraZeneca India 주식은 7세션에서 17% 이상 뛰었습니다. 가격이 얼마나 갈 수 있는지 알아보세요', ' 페니 주식: Shiva Granito Exports, 이 다섯 가지 차우니 주식이 큰 역할을 했습니다. 여기에서 전체 목록을 확인하세요.', ' Multibagger 주식: 이 주식은 2년 만에 Rs.200에서 Rs.8을 벌었습니다. 여전히 많은 힘이 남아 있습니다. 이 주식이 귀하의 포트폴리오에 있습니까?', ' 주식 시장 예측: 투자자들은 조심하십시오! TCS 및 Gland Pharma를 포함한 이러한 주식의 큰 하락 징후', ' 통신 부문의 Adani 그룹: 통신 부문의 Adani, Airtel 및 Voda-Idea의 격변! 주식의 움직임이 무엇을 말하는지 알 수 있습니다.', ' 페니 주식: Polytex India를 포함한 이 차니 주식은 오늘 놀라운 일을 했습니다.', ' 최고 추세 주식: 스미토모 화학의 주가는 시장 하락 속에 사상 최고치에 도달했으며 가격이 도달할 수 있는 위치를 알고 있습니다.', ' 가격 거래량 분석: Adani Wilmar를 포함한 이 5개 주식이 날아올랐습니다. 전체 목록은 여기에서 확인하세요.', ' 시장 예측 공유: 오늘날 Balrampur Chini 및 Star Health와 같은 주식은 가방을 채우고 투자하고 수익을 올릴 수 있습니다!', ' 소액주식 수익률: 올해 소기업 주식이 큰 타격을 입었습니다. 투자자들의 손실이 얼마나 큰지 아세요!', ' Tata Technologies IPO: Tata Motors 자회사가 IPO를 준비하고 있습니다. 이 기회는 Tata Group에서 수년 후에 올 것입니다.', ' 최고 추세 주식: Larsen과 Toubro의 점유율은 4% 상승했으며 가격이 도달할 수 있는 위치를 알고 있습니다.', ' 가격 거래량 돌파: Nucleus Software Exports를 포함한 이 4개 주식의 엄청난 상승, 돈을 벌 수 있는 좋은 기회', ' 페니 주식 : 오늘 Kore Foods를 포함한 이러한 거대한 주식은 상위 회로를 느꼈습니다.', ' 주식 시장 예측: 오늘날 M&M 및 Varun Beverages를 포함한 이러한 주식에 베팅할 수 있으며, 강세의 좋은 신호가 보입니다.', ' 멀티배거 주식: 이 주식은 BSE에서 1년 만에 800%의 강력한 수익을 올렸습니다. 이제 목록이 NSE에 올라갑니다. 수익을 올릴 수 있는 좋은 기회가 있습니다.', ' Rakesh Jhunjhunwala 뉴스: Rakesh Jhunjhunwala는 두 손을 얻었고 그의 두 주식은 최대 16% 상승했습니다.', ' 가격 거래량 돌파: Surya Roshni를 포함한 이 5개 주식은 큰 도약을 했습니다. 누가 목록에 있는지 알 수 있습니다.', ' 페니 주식: 이 Chawni 주식의 가격이 8%까지 뛰었습니다. 전체 목록은 여기를 참조하세요.', ' 멀티배거 주식: 이 주식은 1년에 100만~480만 달러를 벌었습니다. 가지고 있습니까?', ' 오늘 Titan Company 및 Macrotech Developers와 같은 주식이 귀하의 가방을 채울 수 있습니다!', ' Share Market 최신 업데이트: 주식 시장이 크게 상승했습니다. Sensex가 600포인트 이상 뛰었던 이유를 알아보세요!', ' ONGC 주가 하락: Oil India와 ONGC의 주가는 일주일 만에 33% 하락했습니다. 이유가 무엇인지 아십시오.', ' 최고 추세 주식: 인도 주식의 Tube Investments는 이틀 만에 9% 상승했으며 가격이 도달할 수 있는 위치를 알고 있습니다.', ' 페니 주식: Epic Energy를 포함한 이 차니 주식은 오늘 상부 회로에서 마감되었습니다.', ' 가격 변동폭: Berger Paints를 포함한 이 5개 주식은 엄청난 성장을 보였습니다. 전체 목록은 여기에서 확인하세요.', ' 오늘날 Bajaj Holdings 및 ABB Power와 같은 주식에 돈을 투자하여 큰 이익을 얻을 수 있습니다!', \" LIC 공유 뉴스: LIC 주식은 이 중개 회사로부터 '매수' 등급을 받았습니다. 얼마나 많은 이익을 얻을 수 있는지 알아보세요\", ' 최고 추세주: 마힌드라 회사 주가 5% 급등, 빠른 수익을 원하면 돈을 투자할 수 있다', ' 멀티배거 주식: 이 주식은 7개월 만에 멀티배거 수익을 올렸습니다.', ' 페니 주식: Ramgopal Polytex, 이 넘쳐나는 주식은 오늘 투자자들의 은화를 얻었습니다.', ' 오늘 스미토모 화학 및 GSK 제약과 같은 주식에 돈을 투자하면 큰 이익을 얻을 수 있습니다!', ' 주식 시장 전망: 주식 시장의 투자자들에게 큰 두려움이 있습니다. 수백만 달러가 익사할 수 있습니다. 이유가 무엇인지 압니다.', ' Fabindia Share: Fabindia는 50,000명 이상의 농부와 장인에게 무료로 주식을 배포할 예정입니다.', ' Radhakishan Damani 뉴스: Radhakishan Damani는 6월 분기에 26,300백만 달러를 잃었습니다. 어떤 주식이 가장 큰 충격을 주었습니까?', ' 시세차익 : 인더신드은행 등 7개 종목, 지금 투자하면 큰 수익을 낼 수 있다', ' 최고 추세 주식: Gujarat Gas Ltd 주가 5% 상승, 가격이 얼마나 갈 수 있는지 알아보세요', ' 페니 주식: 이 Chawni 주식을 포함한 Nihar Info Global은 투자자들의 가방을 채웠고, 주가는 10%까지 뛰었습니다.', ' 시장 예측 공유: 오늘날 Tata Power 및 IndusInd Bank와 같은 주식은 가방을 채우고 투자하고 수익을 올릴 수 있습니다!', ' 시장 뉴스 공유: 6월에 1400만 달러가 익사했지만 7월에는 비바람이 몰아칠 것입니다! Sensex의 15년 역사가 말하는 바를 아십시오.', ' Reliance 주가: Reliance의 주가가 크게 하락했습니다. 지금 가격이 얼마인지 알아보세요.', ' 시장 팁 공유: Rakesh Jhunjhunwala의 이 점유율이 크게 증가할 조짐입니다. 수익도 얻을 수 있으며 목표가 무엇인지 알 수 있습니다.', ' 시장 팁 공유: 이 주식에 범퍼 붐의 신호가 왔습니다. 붐이 시작되었습니다. 베팅을 할 수 있습니다.', ' 페니 주식: Supertex Industries를 포함한 이 차니 주식은 오늘 상부 회로에서 마감되었습니다.', ' 오늘의 비즈니스 팁: 오늘 Lupine과 Hindustan Unilever의 주식은 투자자의 가방을 채울 수 있습니다. 이유가 무엇인지 알 수 있습니다.', ' 주식 시장 하락: Rs 13 lakh crore의 손실 .. 6월은 투자자들에게 무거웠습니다.', ' Rakesh Jhunjhunwala 뉴스: Rakesh Jhunjhunwala의 이 주식은 12일 동안 31% 하락했습니다. 당신도 가지고 있습니까?', ' 멀티배거 주식: 2년 만에 약 400% 수익률, 이 주식은 투자자를 부자로 만들었으며 여전히 호황을 누리고 내기를 할 수 있습니다.', ' 최고 추세 주식: 며칠 안에 더 나은 수익을 원하면 이 주식에 베팅할 수 있습니다.', ' Penny Stocks: Ballarpur Industries를 포함하여 이 거대한 주식은 오늘날 투자자들의 은화를 얻었습니다.', ' 오늘의 비즈니스 팁: 오늘날 투자자들은 Infosys 및 Minda Industries 주식에서 은을 얻을 수 있습니다.', ' 주식 시장 팁: 이 주식에 돌파구가 있고, 강한 호황이 있으며, 이익을 얻을 좋은 기회가 있습니다', ' 최고 추세 주식: 이 자동차 주식에서 좋은 상승 신호가 보이고, 초기 거래가 호황이며, 좋은 수익을 올릴 수 있습니다.', ' 시장 팁 공유: 오늘 이 페니 주식에서 상단 회로가 시작되었습니다. 부유한 투자자, 당신도 속임수를 쓰고 이익을 주시하고 싶습니다.', ' 오늘의 비즈니스 팁: 오늘 Route Mobile 및 SBI에 풍부한 수익 기회가 있습니다. 이유가 무엇인지 알아보세요.', ' 최고 페니 주식: 오늘 이 페니 주식에서 상위 회로가 시작되었습니다. 풍부한 이익을 얻으려면 계속 주시하십시오.', ' 최고 추세 주식: 이 제약 회사의 주식은 4일 만에 18% 상승했으며 추가 성장의 좋은 신호가 있습니다.', ' Multibagger Stock: 부유한 투자자, 이 화학 회사의 주식은 2년 만에 1000%의 수익을 올렸고, 여전히 호황의 조짐이 있습니다.', ' 오늘의 비즈니스 팁: 오늘 Sterling Tools 및 Bilcare의 주식은 투자자들의 가방을 채울 수 있습니다.', ' 시장 뉴스 공유: 투자자들은 시장에서 빠르게 스윙하고, 경기 침체의 어두운 구름, 오늘날 호황의 원인이 무엇인지 알고 있습니다.', ' 마힌드라·마힌드라 주가: 마힌드라 주가 3개월 반 만에 63% 급등, 아직 힘 많이 남아, 이유가 뭔지 알아', ' 가격 거래량 이탈: 사람들은 이 주식에서 치열하게 거래하고 있습니다. 가격이 상승할 좋은 신호가 있습니다. 여기에서 목록을 참조하세요.', ' 최고 추세 주식: 이 주식은 강세의 모든 신호를 볼 수 있습니다. 오늘날에도 6% 이상의 상승이 있으며 돈을 벌 수 있는 좋은 기회가 될 수 있습니다.', ' Penny Stocks: 이 Bhangar 주식에 종사하는 상위 회로, 수익 창출에 주의', ' 시장 예측 공유: 오늘날 Nazara Tech 및 Vakrangee와 같은 주식은 가방을 채우고 투자하고 수익을 올릴 수 있습니다!', ' 주식 시장이 떨어지는 이유: 주식 시장이 이렇게 떨어지는 것이 아니라 이 사람들이 인도에서 계속해서 엄청난 금액을 인출하고 있습니다!', ' Share Market 최신 업데이트: 다음 주에 주식 시장이 상승할 것인가 하락할 것인가? 이러한 것들이 당신의 돈이 가라앉을지 또는 이익을 낼지 결정합니다!', ' Share Market 최신 업데이트: 상위 10개 기업 중 9개 기업의 시가 총액이 증가했습니다. 시장에 비추어 봐도 Reliance가 얼마나 많은 손실을 입었는지 알 수 있습니다.', ' Rakesh Jhunjhunwala의 이 주식은 질주하고 있습니다. 회사는 투자자들에게 보너스 주식을 제공하고 있습니다. 기록 날짜가 언제인지 알고 있습니다.', ' 최고 추세 주식: Shriram Transport Finance 주식은 상승세를 보이고 있습니다. 얼마나 갈지 알 수 있습니다.', ' 가격 거래량 이탈: 이 주식은 주식 시장의 호황과 함께 달렸고 사람들은 열심히 사고 있습니다.', ' 페니 주식: KBC 글로벌을 포함한 이 페니 주식은 오늘 상부 회로에서 마감되었습니다.', ' 주식 시장 예측: 오늘 Tata Steel 및 Axis Bank를 포함한 이러한 주식을 멀리하십시오. 큰 하락 조짐이 보입니다.', ' 오늘의 트랜드 주식: 오늘의 트랜드 주식, 하락장에서도 몇 시간 만에 4%의 수익률을 준다', ' Mulibagger 주식: 이 주식은 100만 루피, 약 500만 달러를 벌어들인 것을 보고 불과 2년 만에 400%의 수익을 올렸습니다!', ' Penny Stocks: Minaxi Textiles를 포함하여 이 화려한 주식은 투자자의 행운을 열었습니다.', ' 시장 예측 공유: 오늘날 Max Healthcare 및 Godrej Consumer를 포함한 이러한 주식에 베팅할 수 있으며, 강세의 큰 징후가 보입니다.', ' 오늘의 트랜드 주식: 오늘의 트랜드 주식, 하락장에서도 몇 시간 만에 8%의 수익률', ' Price Volume Breakout: 하락하는 주식 시장에서도 빠르게 뛰었고 사람들은 강력하게 매수하고 있습니다.', ' 페니 주식: RLF Ltd를 포함한 이 페니 주식은 소란을 일으켜 상위 회로에서 마감되었습니다.', ' 주식 시장 예측: MindTree 및 JWL을 포함한 이러한 주식은 강세 신호가 좋으며 수익을 낼 수 있는 좋은 기회가 있습니다.', ' Share Market News: 투자자들이 살아났고, 며칠간의 매도 압력 끝에 오늘 범퍼 붐이 나타났습니다. 그 이유가 무엇인지 아십시오.', ' 오늘의 트랜드 주식: 오늘의 트랜드 주식입니다.', ' Mulibagger 주식: 이 화학 주식은 단 2년 만에 1000% 증가하여 1100만 루피에서 100만 루피를 벌어들였습니다!', ' Penny Stocks: Himachal Fibers를 포함한 이 차니 주식은 투자자의 가방을 채웠습니다.', ' 주식 시장 예측: 오늘날 Adani Green 및 Bajaj Finserv를 포함한 이러한 주식에 돈을 투자할 수 있으며 큰 호황의 징후가 보입니다.', ' LIC 주가: LIC 투자자들에게 희소식! 주식에 범퍼 붐이오고있다이 증권 회사가 말하는 것을 알고', ' 주식 시장으로 돈을 버는 방법: 이 Veer Bahadurs는 누구이며 그들이 채택하고 있는 전략을 알고 있습니다.', ' 가격 거래량 돌파: 주식 시장의 하락에도 불구하고 이 주식은 빠르게 뛰었고 사람들은 강력하게 구매했습니다.', ' 오늘의 트랜드 주식: 오늘의 트랜드 주식입니다.', ' Penny Stocks: RLF Limited를 포함하여 이 훌륭한 주식은 투자자들의 은화를 만들었습니다.', ' 시장 예측 공유: 오늘날 Sun TV 및 SIS India와 같은 주식은 가방을 채우고 투자하고 수익을 올릴 수 있습니다!', ' 주식 시장이 하락하는 이유: 이뿐만 아니라 주식 시장이 6일 연속 하락하여 1800만 루피의 손실을 낸 진짜 이유입니다.', ' Share Market 최신 업데이트: 다음 주 주식 시장은 어떻게 움직일까요? 이러한 것들이 당신의 돈이 가라앉을지 또는 이익을 낼지 결정합니다!', ' Share Market 최신 업데이트: 상위 10개 기업의 시가 총액 감소, 어느 회사가 얼마나 많은 손실을 입었는지 확인', ' 암호 화폐 가격: 주식 시장뿐만 아니라 암호 화폐 시장에서도 외침이 있습니다. 투자자들은 일주일 동안 Rs 22 lakh crore를 잃었습니다.', ' Paytm 주가: Vijay Shekhar Sharma는 Paytm의 170만 주를 샀습니다. 그가 자신의 회사 주식을 얼마에 인수했는지 알 수 있습니다', ' 주식 시장 업데이트: 주식 시장은 6일 연속 하락했습니다. 이제 Sensex-Nifty가 어느 수준에 도달했는지 알 수 있습니다.', ' Rakesh Jhunjhunwala 뉴스: Tata Group의 이 지분은 Rakesh Jhunjhunwala에게 큰 타격을 주었습니다.', ' 유행하는 주식: Poonawalla Fincorp의 주가는 2% 이상 뛰었습니다. 지금 돈을 투자하면 얼마나 많은 이익을 얻을 수 있는지 알 수 있습니다.', ' 가격 거래량 이탈: 이 5개 주식의 가격이 급등했습니다. 해당 주식이 있습니까?', ' 페니 주식: 주식 시장이 하락하는 가운데 이 5개의 차니 주식이 투자자의 가방을 채웠습니다. 전체 목록은 여기를 참조하세요.', ' 오늘 Deepak Nitrite 및 Suven Pharma와 같은 주식에 돈을 투자하면 큰 이익이 있을 것입니다!', ' 주식 시장이 하락하는 이유: 투자자들은 주식 시장에서 단 5일 만에 Rs 15.74 lakh crore를 잃었습니다. 시장이 하락한 이유를 알고 있습니다.', ' 주식 시장이 하락하는 이유: 주식 시장에 외침이 있습니다. Nifty는 52주 최저치를 기록했습니다. 이 둔화의 원인이 무엇인지 아십시오.', ' 주식 시장 하락: 주식 시장은 조기 이익을 잃었고, Sensex는 1000포인트 하락, Nifty는 1년 만에 최저치로 떨어졌습니다.', ' Top Trending 주식: Suprajit Engineering의 주가는 3% 상승했습니다. 빠른 수익을 원한다면 운을 시험해 보세요.', ' 페니 주식: Vision Cinemas Ltd를 포함한 이 5개의 차니 주식은 투자자들로부터 많은 돈을 벌었습니다. 전체 목록은 여기를 참조하세요.', ' 멀티배거 주식: 이 Ashish Kacholia 주식은 1년에 500만 달러를 벌었습니다.', ' 오늘날 VIP Industries 및 Alembic Pharma와 같은 주식이 귀하의 가방을 채우고 투자하고 수익을 올릴 수 있습니다!', ' LIC Share Review: LIC IPO 타이밍이 안 맞았나? 회사 회장이 하는 말을 알아라', ' LIC 주가 : LIC 주가 2일 연속 급등, 지금 주가 어디까지 왔는지 알 수 있다', ' 가격 변동이 있는 주식: 이 5개 주식을 포함한 Indraprastha Gas Ltd는 수익을 올릴 수 있는 기회가 있습니다. 전체 목록은 여기에서 확인하세요.', ' 최고 추세주: Jamna Auto Industries 주가 6% 급등, 단기간에 큰 수익 얻을 수 있음', ' 페니 주식: Gujarat State Finance를 포함한 이 5개의 차니 주식은 투자자의 가방을 채웠습니다. 전체 목록은 여기에서 확인하세요.', ' 오늘날 Bharti Airtel 및 Siemens와 같은 주식에 돈을 투자하여 큰 이익을 얻을 수 있습니다!', ' 주가 하락 이유: 주식 시장이 3일 연속 하락, 센섹스가 10개월 최저치, 시장 하락 이유를 알다', ' LIC 주가: LIC 주가 10일 연속 하락 후 상승, 투자자들이 해야 할 일', ' Top Trending Stock: SIS 주식에 엄청난 상승세가 있고 차트가 더 성장할 조짐을 보이고 있음, 목표가 무엇인지 알고 있음', ' 시장 팁 공유: 이 에너지 회사의 점유율은 6개월 만에 32루피에서 125루피로 증가했지만 여전히 좋은 성장을 기대합니다.', ' Penny Stocks: SGN Telecoms를 포함한 이 차니 주식은 투자자들을 은으로 만들었습니다.', ' 오늘 Minda Industries 및 Sheela Foam과 같은 주식에 돈을 투자하면 큰 수익이 날 것입니다!', ' Share Market News: 오늘 시장에 혼란이 있었습니다. 수십억 루피의 투자자가 익사했습니다. 이유가 무엇인지 압니다.', ' 주식 시장 하락: Sensex 하락 1700 포인트, 투자자는 사거나 기다려야 합니다! 전문가들이 말하는', ' 최고 추세 주식: Siemens India Ltd의 주가는 대량 매도 속에서 빛난다', ' LIC 주가: LIC 주가 10일 연속 하락, 투자자들이 해야 할 일', ' 페니 주식: 주식 시장은 피를 흘리지만 이 5개의 차니 주식은 상위 회로에 닿았습니다. 전체 목록 보기', ' 가격 거래량 이탈: 주식 시장이 큰 폭으로 하락하는 가운데 Adani Green Energy를 포함한 이 5개 주식이 투자자의 가방을 채웠습니다. 전체 목록은 여기에서 확인하세요.', ' 주식 시장 하락: 주식 시장은 피투성이, Sensex는 1500포인트 하락, 몇 분 안에 6백만 투자자가 파괴되었습니다.', ' 시장 예측 공유: 오늘날 Indian Bank 및 Tata Chemicals와 같은 주식은 가방을 채우고 투자하고 수익을 올릴 수 있습니다!', ' Share Market 최신 업데이트: 상위 10개 기업의 시가 총액 감소, 어느 회사가 얼마나 많은 손실을 입었는지 확인', ' Tesla 주가: Tesla 주가가 3배나 싸지고 있습니다. 살 수 있는 방법을 알아두세요.', ' LIC Share News : 6월 13일 이후에 LIC의 주식이 큰 폭으로 떨어질 수 있습니다! 이것이 이유 다', ' Paytm 주가: Paytm에 투자하는 사람들에게 희소식입니다. 주가는 앞으로 60% 이상 오를 수 있습니다.', ' 주식 시장 하락: Sensex는 1000포인트 하락, 투자자들은 Rs 3.15 lakh crore를 잃었고, Reliance의 주가는 크게 하락했습니다.', ' Multibagger 주식: 주식 시장에서 판매! 돈을 두 배로 늘리는 19개 주식이 최대 50% 할인됩니다. 목록 참조', ' 최고 추세 주식: J Kumar Infraprojects 주가 2주 만에 35% 상승', ' LIC 주가: LIC의 하락이 멈추지 않고 손실이 주당 240루피에 이르렀습니다. 지금 가격이 얼마인지 알아보세요.', ' 가격 거래량 돌파: 시장 하락 속에서 희망을 키운 이 7개 종목, 누가 목록에 있는지 알 수 있습니다.', ' 페니 주식: Soma Textiles and Industries를 포함한 이 차니 주식은 오늘 큰 수익을 올렸습니다.', ' 주식 시장 예측: 오늘 Bajaj Auto 및 Adani Transmission을 포함한 이러한 주식에 베팅할 수 있으며, 강세의 큰 신호가 오고 있습니다.', ' 최고 거래 주식: Reliance Industries의 주가는 1.50% 상승했으며 가격이 얼마나 갈 수 있는지 알고 있습니다.', ' LIC 주가: Paytm으로 가는 LIC 주식! 투자자들은 주식당 226루피를 잃었다.', ' 페니 주식: Essar Securities Ltd를 포함한 이 5개의 Chavanni 주식은 투자자들을 은으로 만들었습니다. 누가 목록에 있는지 알 수 있습니다.', ' 멀티배거 주식: 이 주식은 2년 만에 100만~490만 달러를 벌어들였으며 현재 사상 최고가에 거래되고 있습니다.', ' 주식 시장 예측: 오늘날 Motilal Oswal 및 MRPL을 포함한 이러한 주식에 돈을 투자할 수 있습니다. 강세의 큰 징후가 보입니다.', ' 가격 거래량 분석: SJS Enterprises Ltd를 포함한 이 5개 주식은 투자자의 가방을 채울 수 있습니다. 전체 목록은 여기에서 확인하세요.', ' 최고 추세 주식: 이 주식은 한 시간 만에 7%나 뛰었습니다. 가지고 있습니까?', ' 페니 주식: Essar Securities를 포함한 이러한 Chawni 주식이 상위 회로에 닿았습니다.', ' 주식 시장 예측: 오늘 Adani Gas와 RBL Bank에 돈을 투자할 수 있습니다. 큰 강세 신호가 보입니다.', ' 멀티배거 주식: 이 주식은 베테랑 투자자 포트폴리오에 포함되어 10년 만에 10,000%까지 뛰었습니다.', ' 주식 시장 하락: 2.5 lakh crores가 몇 분 만에 명확 해졌습니다. 주식 시장이 하락한 이유', ' LIC 주가 : 사상 최저 수준의 LIC 주가, 지금 하락하고 있는 가격이 얼마인지 아세요', ' 최고 추세 주식: 이 주식은 8개 세션에서 30% 상승했으며 여전히 많은 힘이 남아 있습니다.', ' 페니 주식: Essar Securities Ltd를 포함한 이 5개의 페니 주식이 상승했습니다. 전체 목록은 여기를 참조하세요.', ' 멀티배거 주식: 이 주식은 2년 동안 116.1루피에서 2339.15루피를 벌었습니다. 구매하지 않으시겠습니까?', ' 오늘의 비즈니스 팁: SBI 카드와 HLE Glascoat의 주식은 투자자의 은화로 이어질 수 있습니다.', ' 주식 시장 뉴스: 누가 주식 시장에서 가장 많이 버는가! 다음은 상위 5대 주식 투자자 목록입니다.', ' 가격 거래량 돌파 주식: 오늘 이 주식은 가격 거래량 돌파를 보여주었습니다. 전체 목록은 다음과 같습니다.', ' 최고 추세 주식: 주식 시장의 하락에도 불구하고, 이 주식의 강한 상승이 있었고, 이 주식은 1주일 만에 12%의 수익률을 보였습니다.', ' 페니 주식: 오늘 Essar Securities를 포함한 Chawni 주식이 흔들렸습니다.', ' Sankarsh Chanda: Sankarsh Chand는 주식 시장에서 불과 23년 만에 1억의 소유자가 되었으며 17세부터 투자했습니다.', ' 오늘날 ONGC 및 Indian Oil Corp와 같은 주식은 가방을 채우고 투자하고 이익을 얻을 수 있습니다!', ' LIC Share News: LIC 투자자들은 94,116백만의 손실을 입었고, 주가는 가장 낮은 수준에 이르렀습니다. 목표 가격이 얼마인지 아십시오.', ' 주식 시장 업데이트 : 주식 시장은 저녁까지 강한 모멘텀으로 열렸고 Sensex-Nifty는 모두 하락하고 마감했습니다.', ' Fat Finger Trading: 중개소에 몇 분 안에 Rs 250 crore의 비용이 드는 Fat Finger Trading이 무엇인지 아십시오!', ' Reliance 주가: Reliance의 주가는 2주 만에 14% 상승했으며 가격이 도달할 수 있는 위치를 알고 있습니다.', ' 가격 거래량 돌파: Reliance Industrial Infra를 포함한 이 5개 주식에서 수익을 올릴 수 있는 기회, 여기에서 전체 목록 보기', ' 최고 추세 주식: 가격이 도달할 수 있는 위치를 알고 있는 Infosys 주가 급등', ' 페니 주식: Gayatri 고속도로를 포함한 이 주식은 오늘 고점을 기록했고 상위 서킷을 시작했습니다.', ' 주식 시장 예측: Adani Enterprises 및 M&M을 포함한 이러한 주식의 강세 신호는 수익을 얻기 위해 돈을 투자할 수 있습니다.', ' LIC 주식 목표 가격 : LIC IPO 투자자는 당분간 이익을 잊어 버리고 Emkay Global은이 목표를 주식에 적용했습니다.', ' 최고 추세 주식: Balaji Amines Ltd 주식은 5% 급등했습니다. 지금 돈을 투자하는 것이 유리할 수 있습니다.', ' 페니 주식: RLF Ltd를 포함한 이 차니 주식은 오늘 급등했습니다.', ' 멀티배거 주식: 이 Tata Group 회사는 멀티배거 수익을 제공하여 2년 만에 Rs.82를 Rs.235로 만들었습니다.', ' 주식 시장 예측: 오늘날 M&M 및 Suzlon Energy를 포함한 이러한 주식에 돈을 투자할 수 있으며, 강한 강세 신호가 보입니다.', ' 주식 시장 하락: 이 회사들은 지난 달에 심하게 타격을 받았으며 166주가 10% 이상 하락했으며 31주가 20% 하락했습니다. 목록 참조', ' Zomato 주가: 토마토 킬로그램보다 싸게 된 후 Zomato의 주가가 다시 뛰었습니다. 이제 돈을 투자하거나 주식을 팔아야 합니다.', ' 페니 주식: 오늘 이 멋진 주식을 포함한 Superfine Knitters가 흔들렸습니다.', ' Adani Group 주식: 투자자들이 Adani Group의 멀티배거 주식을 없애고 있습니다! 여기서 진짜 이유를 알아라', ' 인기 급등주: Chalet Hotels Ltd 주가 1시간 만에 6% 급등, 지금 돈을 투자하면 큰 수익을 올릴 수 있습니다', ' 가격 볼륨 브레이크 아웃: Bharat Dynamics를 포함한 이 7개 주식은 가방을 채울 수 있으며 가격이 크게 뛰었습니다.', ' LIC 시가총액: LIC 시가총액은 ICICI Bank도 밑도는 수준, 주가가 얼마인지 알 수 있다', ' 주식 시장 예측: BSE와 Oil India에서 강세의 좋은 신호를 볼 수 있습니다. 이것은 수익을 올릴 수 있는 좋은 기회입니다.', ' Share Market News: 시장에서 이익 예약이 있었고 전력 및 금융 주식, 금속 및 자동차 주식이 급등했으며 LIC 주식이 깨졌습니다.', ' 멀티배거 주식: 이 주식은 1년 만에 5,300% 상승했습니다.', ' Anand Mahindra 뉴스: Kalam의 만트라는 놀라운 일을 했고, Mahindra & Mahindra의 주식은 최고가에 도달했습니다.', ' 추세 주식: Bharat Forge의 점유율이 5% 상승했습니다. 가격이 얼마나 갈 수 있는지 알아보세요.', ' 페니 주식: Viji Finance를 포함한 이 주식은 오늘 상위 회로에서 마감되었습니다. 전체 목록은 여기를 참조하세요.', ' 멀티배거 주식: 이 주식은 2년 동안 4.7배의 수익률을 주었습니다. 사지 않으시겠습니까?', ' 주식 시장 예측: 오늘날 M&M 및 Laxmi Organic과 같은 주식에 베팅하여 강세의 큰 신호를 얻을 수 있습니다.', ' 오늘의 주식 시장: 시장의 많은 긍정적인 소식이 호황을 촉발했습니다. 쇠퇴의 시대는 지났습니까?', ' Rakesh Jhunjhunwala 뉴스: 이번 달에 Rakesh Jhunjhunwala는 이 세 가지 주식에서 1400억 루피를 잃었습니다. 이 주식을 가지고 있습니까?', ' LIC 공유소식: LIC 투자자들의 실망감 해소! 오늘 당신은 범퍼 좋은 소식을 얻을 수 있습니다', ' 가격 거래량 돌파: 이 주식은 한 번에 최대 12% 상승했습니다. 전체 목록은 여기에서 확인하세요.', ' 최고 추세 주식: 이 Tata Group 주식은 아침에 4% 상승했으며 단기적으로 큰 이익을 줄 수 있습니다.', ' 페니 주식: Vikas Lifecare Ltd를 포함한 이 6개 주식은 투자자의 가방을 채웠습니다. 전체 목록은 여기에서 확인하세요.', ' Godrej Industries 및 IndiaMart와 같은 주식은 가방을 채우고 투자하고 이익을 얻을 수 있습니다!', ' 주식시장 폭락 이유: 이 뿐만 아니라 지난주 3일 연속 주식시장 폭락, 진짜 이유가 뭔지 아세요', ' IPO 투자 팁: IPO에 투자할 때 다음 5가지 실수를 하지 마십시오', ' Zomato 주가: Zomato의 주가가 토마토 1kg 미만으로 떨어졌을 때 현재 Rs에 판매되고 있는지 확인하십시오.']]\n"
     ]
    }
   ],
   "source": [
    "print(links_list)"
   ]
  },
  {
   "cell_type": "code",
   "execution_count": 23,
   "metadata": {},
   "outputs": [],
   "source": [
    "links_list = sum(links_list,[])"
   ]
  },
  {
   "cell_type": "code",
   "execution_count": 25,
   "metadata": {},
   "outputs": [],
   "source": [
    "import pandas as pd\n",
    "df = pd.DataFrame(links_list, columns=['Finance Article'])"
   ]
  },
  {
   "cell_type": "code",
   "execution_count": 26,
   "metadata": {},
   "outputs": [
    {
     "data": {
      "text/html": [
       "<div>\n",
       "<style scoped>\n",
       "    .dataframe tbody tr th:only-of-type {\n",
       "        vertical-align: middle;\n",
       "    }\n",
       "\n",
       "    .dataframe tbody tr th {\n",
       "        vertical-align: top;\n",
       "    }\n",
       "\n",
       "    .dataframe thead th {\n",
       "        text-align: right;\n",
       "    }\n",
       "</style>\n",
       "<table border=\"1\" class=\"dataframe\">\n",
       "  <thead>\n",
       "    <tr style=\"text-align: right;\">\n",
       "      <th></th>\n",
       "      <th>Finance Article</th>\n",
       "    </tr>\n",
       "  </thead>\n",
       "  <tbody>\n",
       "    <tr>\n",
       "      <th>0</th>\n",
       "      <td>오늘의 비즈니스 팁: 오늘 LIC 주택 금융 및 Adani Enterprises를...</td>\n",
       "    </tr>\n",
       "    <tr>\n",
       "      <th>1</th>\n",
       "      <td>Multibagger 주식: 이 알려지지 않은 주식은 2주 만에 Rs.618에서 ...</td>\n",
       "    </tr>\n",
       "    <tr>\n",
       "      <th>2</th>\n",
       "      <td>최고 추세 주식: 이 비료 회사의 주식은 최고 추세이며, 낮은 수준에서 45% 상...</td>\n",
       "    </tr>\n",
       "    <tr>\n",
       "      <th>3</th>\n",
       "      <td>Share Market News: 주식시장 하락의 시대는 지났습니까? 인도 및 미...</td>\n",
       "    </tr>\n",
       "    <tr>\n",
       "      <th>4</th>\n",
       "      <td>Share Market News: 이 의류 관련 회사의 주식은 투자자들을 부자로 ...</td>\n",
       "    </tr>\n",
       "    <tr>\n",
       "      <th>...</th>\n",
       "      <td>...</td>\n",
       "    </tr>\n",
       "    <tr>\n",
       "      <th>283</th>\n",
       "      <td>페니 주식: Vikas Lifecare Ltd를 포함한 이 6개 주식은 투자자의 ...</td>\n",
       "    </tr>\n",
       "    <tr>\n",
       "      <th>284</th>\n",
       "      <td>Godrej Industries 및 IndiaMart와 같은 주식은 가방을 채우고...</td>\n",
       "    </tr>\n",
       "    <tr>\n",
       "      <th>285</th>\n",
       "      <td>주식시장 폭락 이유: 이 뿐만 아니라 지난주 3일 연속 주식시장 폭락, 진짜 이유...</td>\n",
       "    </tr>\n",
       "    <tr>\n",
       "      <th>286</th>\n",
       "      <td>IPO 투자 팁: IPO에 투자할 때 다음 5가지 실수를 하지 마십시오</td>\n",
       "    </tr>\n",
       "    <tr>\n",
       "      <th>287</th>\n",
       "      <td>Zomato 주가: Zomato의 주가가 토마토 1kg 미만으로 떨어졌을 때 현재...</td>\n",
       "    </tr>\n",
       "  </tbody>\n",
       "</table>\n",
       "<p>288 rows × 1 columns</p>\n",
       "</div>"
      ],
      "text/plain": [
       "                                       Finance Article\n",
       "0     오늘의 비즈니스 팁: 오늘 LIC 주택 금융 및 Adani Enterprises를...\n",
       "1     Multibagger 주식: 이 알려지지 않은 주식은 2주 만에 Rs.618에서 ...\n",
       "2     최고 추세 주식: 이 비료 회사의 주식은 최고 추세이며, 낮은 수준에서 45% 상...\n",
       "3     Share Market News: 주식시장 하락의 시대는 지났습니까? 인도 및 미...\n",
       "4     Share Market News: 이 의류 관련 회사의 주식은 투자자들을 부자로 ...\n",
       "..                                                 ...\n",
       "283   페니 주식: Vikas Lifecare Ltd를 포함한 이 6개 주식은 투자자의 ...\n",
       "284   Godrej Industries 및 IndiaMart와 같은 주식은 가방을 채우고...\n",
       "285   주식시장 폭락 이유: 이 뿐만 아니라 지난주 3일 연속 주식시장 폭락, 진짜 이유...\n",
       "286            IPO 투자 팁: IPO에 투자할 때 다음 5가지 실수를 하지 마십시오\n",
       "287   Zomato 주가: Zomato의 주가가 토마토 1kg 미만으로 떨어졌을 때 현재...\n",
       "\n",
       "[288 rows x 1 columns]"
      ]
     },
     "execution_count": 26,
     "metadata": {},
     "output_type": "execute_result"
    }
   ],
   "source": [
    "df"
   ]
  },
  {
   "cell_type": "code",
   "execution_count": 27,
   "metadata": {},
   "outputs": [],
   "source": [
    "df.to_excel('Finance_Article.xlsx', index=None)"
   ]
  }
 ],
 "metadata": {
  "kernelspec": {
   "display_name": "Python 3",
   "language": "python",
   "name": "python3"
  },
  "language_info": {
   "codemirror_mode": {
    "name": "ipython",
    "version": 3
   },
   "file_extension": ".py",
   "mimetype": "text/x-python",
   "name": "python",
   "nbconvert_exporter": "python",
   "pygments_lexer": "ipython3",
   "version": "3.8.5"
  }
 },
 "nbformat": 4,
 "nbformat_minor": 4
}
