{
 "cells": [
  {
   "cell_type": "code",
   "execution_count": 19,
   "id": "21506a7e",
   "metadata": {},
   "outputs": [],
   "source": [
    "import requests\n",
    "from pandas import DataFrame\n",
    "from bs4 import BeautifulSoup\n",
    "import re\n",
    "from datetime import datetime\n",
    "import os\n",
    "\n",
    "from urllib.request import Request, urlopen # url open\n",
    "import urllib.parse\n",
    "\n",
    "import requests"
   ]
  },
  {
   "cell_type": "code",
   "execution_count": 20,
   "id": "5354e834",
   "metadata": {},
   "outputs": [],
   "source": [
    "# 파파고 api 메소드 (글자수 때매 사용 안함)\n",
    "\n",
    "def get_translate(text):\n",
    "    client_id = \"zU05PnavleWtiyNb8xrJ\" # <-- client_id 기입\n",
    "    client_secret = \"GGWHMfmwyH\" # <-- client_secret 기입\n",
    "\n",
    "    data = {'text' : text,\n",
    "            'source' : 'en',\n",
    "            'target': 'ko'}\n",
    "\n",
    "    url = \"https://openapi.naver.com/v1/papago/n2mt\"\n",
    "\n",
    "    header = {\"X-Naver-Client-Id\":client_id,\n",
    "              \"X-Naver-Client-Secret\":client_secret}\n",
    "\n",
    "    response = requests.post(url, headers=header, data=data)\n",
    "    rescode = response.status_code\n",
    "\n",
    "    if(rescode==200):\n",
    "        send_data = response.json()\n",
    "        trans_data = (send_data['message']['result']['translatedText'])\n",
    "        return trans_data\n",
    "    else:\n",
    "        print(\"Error Code:\" , rescode)"
   ]
  },
  {
   "cell_type": "code",
   "execution_count": 21,
   "id": "d4f41296",
   "metadata": {},
   "outputs": [],
   "source": [
    "# csv 파일 만들기 위해서\n",
    "\n",
    "date = str(datetime.now()) \n",
    "date = date[:date.rfind(':')].replace(' ', '_') \n",
    "date = date.replace(':','시') + '분' "
   ]
  },
  {
   "cell_type": "code",
   "execution_count": 22,
   "id": "3b8f0f2a",
   "metadata": {},
   "outputs": [
    {
     "name": "stdout",
     "output_type": "stream",
     "text": [
      "8\n",
      "August\n"
     ]
    }
   ],
   "source": [
    "# 베트남 뉴스 크롤링 할 때, 월로 비교\n",
    "# 같은 달이면 크롤링, 달이 다를 경우 크롤링 스톱\n",
    "# 입력하는 형태로 할지 고민 중\n",
    "month = datetime.now()\n",
    "this_month = month.month\n",
    "print(this_month)\n",
    "month = month.strftime('%B')\n",
    "print(month)"
   ]
  },
  {
   "cell_type": "code",
   "execution_count": 29,
   "id": "f9b75e7d",
   "metadata": {},
   "outputs": [],
   "source": [
    "# 그냥 열면 403 에러 발생\n",
    "# mod_security 또는 다른 비슷한 서버 시큐리티가 알려진 사용자 봇을 블록 시킴\n",
    "\n",
    "# 시작 페이지\n",
    "    \n",
    "page = '1'\n",
    "\n",
    "urlTicker = Request('https://www.tintucfn.com/category/business/page/' + page, headers={'User-Agent': 'Mozilla/5.0'})\n",
    "webpage = urlopen(urlTicker).read()\n",
    "soup = BeautifulSoup(webpage, 'html.parser')\n"
   ]
  },
  {
   "cell_type": "code",
   "execution_count": 11,
   "id": "5e2b6945",
   "metadata": {},
   "outputs": [],
   "source": [
    "#엑셀 만들 때 사용\n",
    "news_dict = {} \n",
    "idx = 0 "
   ]
  },
  {
   "cell_type": "code",
   "execution_count": 42,
   "id": "beeb9b0a",
   "metadata": {},
   "outputs": [
    {
     "name": "stdout",
     "output_type": "stream",
     "text": [
      "Đo lường đóng vai trò quan trọng đối với đời sống, sản xuất, nghiên cứu khoa học\n",
      "Tháng Tám 15, 2022\n",
      "https://www.tintucfn.com/business/do-luong-dong-vai-tro-quan-trong-doi-voi-doi-song-san-xuat-nghien-cuu-khoa-hoc/\n",
      "   Chia sẻ vai trò của đo lường và nhu cầu đổi mới hoạt động đo lường, ông Phan Minh Hải cho biết đo lường là một lĩnh vực khoa học – kỹ thuật chính xác, có vai trò quan trọng đối với đời sống, sản   xuất, nghiên cứu khoa học, an ninh và quốc phòng.    Đo lường thống nhất và chính xác góp phần đảm bảo công bằng xã hội; sử dụng tiết kiệm tài nguyên thiên nhiên, vật tư, năng lượng; đảm bảo an toàn, bảo vệ sức khoẻ và môi trường; đẩy mạnh phát triển   khoa học và công nghệ; tăng cường hiệu lực quản lý nhà nước;…    Cũng theo ông Hải, nhu cầu về đo, thử nghiệm, kiểm tra trong doanh nghiệp, đo là xác định giá trị của đại lượng cần đo (định lượng nguyên vật liệu, sản phẩm, hàng hóa, các thông số của quá trình   công nghệ, vv….); Thử nghiệm là xác định các đặc tính chất lượng của sản phẩm, nguyên vật liệu (quá trình sản xuất, nghiệm thu, bàn giao); Kiểm tra là phân loại các đối tượng trong quá trình, xác   định sự phù hợp để đưa ra quyết định cho hoạt động tiếp theo (một phần của đo, thử nghiệm).    Còn đo trong sản xuất, thứ nhất là giai đoạn chuẩn bị sản xuất: Đo là xác định khối lượng, thể tích nguyên vật liệu, nhiên liệu, năng lượng, số lượng bộ phận, chi tiết, bán thành phẩm, vv… để   phục vụ cho giai đoạn sản xuất; Thử nghiệm là xác định thành phần, đặc tính nguyên vật liệu, bộ phận, chi tiết, bán thành phẩm, vv… để xác định sự phù hợp về chất lượng theo yêu cầu sản xuất;   Kiểm tra là xác định sự phù hợp của quy cách, kích thước các chi tiết, bộ phận lắp ráp, bán thành phẩm, vv….    Thứ hai là giai đoạn sản xuất, đo là xác định và kiểm soát, điều khiển các thông số của trình (ví dụ, nhiệt độ nung, áp suất nén, lượng, thời gian, tỷ lệ các thành phần vật liệu phối trộn, vv…)   để đảm bảo chất lượng của sản phẩm chế tạo; Thử nghiệm là xác định thành phần, đặc tính của mẫu bộ phận, chi tiết, bán thành phẩm, vv… trong giai đoạn sản xuất; Kiểm tra là định cỡ, căn chỉnh   thiết bị, đồ gá, bộ phận, chi tiết, vv … để đảm bảo gia công, lắp ráp được chính xác.    Thứ ba là giai đoạn nghiệm thu và phân phối sản phẩm, thử nghiệm là xác định một số thành phần, đặc tính của mẫu thành phẩm để nghiệm thu sau sản xuất; Kiểm tra là xác định kích thước, dung sai để   xác định sự phù hợp của sản phẩm với tiêu chuẩn sản xuất; Đo là định lượng sản phẩm, hàng hóa trong giao dịch, mua bán, thanh toán.    Đo trong kinh doanh, giai đoạn nhập hàng hóa đầu vào: Đo là xác định lượng hàng hóa nhập từ bân giao; Thử nghiệm là xác định thành phần, đặc tính chất lượng của hàng hóa; Kiểm tra là xác định kích   thước, dung sai để xác định sự phù hợp với yêu cầu của hàng hóa tiếp nhận. Giai đoạn tồn trữ, vận chuyển: Đo là xác định lượng hàng hóa tỏng quá trình tồn trữ, vận chuyển; Thử nghiệm là định kỳ xác   định sự duy trì và đảm bảo các đặc tính chất lượng của hàng hóa trong tồn trữ.    Giai đoạn giao hàng, xuất bán: Thử nghiệm là xác định một số thành phần, đặc tính của mẫu hàng hóa để giao hàng; Kiểm tra là thực hiện theo quy định về quản lý của cơ quan có thẩm quyền; Đo là định   lượng sản phẩm, hàng hóa trong giao dịch hàng hóa.    Liên quan đến ảnh hưởng của kết quả đo, theo ông Hải, phép đo có độ chính xác thấp – có thể dẫn đến tổn thất, thất thoát trong giao nhận, tỷ lệ sản phẩm không phù hợp cao dẫn đến thiệt hại trong   quá trình giao hàng, bảo hành, sửa chữa sản phẩm lỗi và phát sinh phàn nàn, khiếu kiện, thậm chí vi phạm pháp luật; Ngược lại, phép đo có độ chính xác cao quá – dẫn đến chi phí đầu tư lớn vào thiết   bị, công nghệ, môi trường và chi phí vận hành, đào tạo nhân lực dẫn đến không hiệu quả hoặc giảm lợi nhuận. Mục đích của đo lường  chính là đảm bảo cho phép đo đạt được độ chính xác cần thiết   với chi phí thấp nhất.    Thực trạng hoạt động đo lường tại doanh nghiệp, phần lớn doanh nghiệp chưa nhận thức đúng và đầy đủ vai trò của đo lường, vì vậy hoạt động đo lường chỉ đáp ứng yêu cầu bắt buộc của quản lý nhà   nước; Không được đầu tư tăng cường để góp phần nâng cao chất lượng sản phẩm, hàng hóa và hiệu quả sản xuất, kinh doanh; Đôi khi để xảy ra sự phù hợp, gây tổn thất, lãng phí, thậm chí vi phạm pháp   luật về đo lường. Chính vì vậy, rất cần phải có sự đổi mới về đo lường. \n",
      "\n",
      "\n",
      "Bitexco đưa hình mẫu giáo dục quốc tế hàng đầu thế giới đến Hà Nội\n",
      "Tháng Tám 14, 2022\n",
      "https://www.tintucfn.com/business/bitexco-dua-hinh-mau-giao-duc-quoc-te-hang-dau-the-gioi-den-ha-noi/\n",
      " Ngày 11/8, Công ty TNHH Quản lý Giáo dục KLEOS, thành viên Tập đoàn Bitexco và Công ty giáo dục SEA EDUCATIONLLC chính thức ký kết   hợp tác đầu tư phát triển   Trường liên cấp Quốc tế Dwight Hà   Nội.    Theo đó, trường liên cấp quốc tế Dwight Hà Nội sẽ thừa hưởng những chương trình giáo dục xuất sắc nhất và giá trị tinh hoa từ 150 năm lịch sử và phát triển trong giáo dục của Dwight-nhà tiên phong   trong Chương trình Giáo dục tú tài IB – để triển khai các chương trình giáo dục tiên tiến nhất dành cho học sinh cả nam và nữ từ bậc mầm non đến lớp 12.            —Ông Vũ Quang Hội – Chủ tịch Tập đoàn Bitexco           và đại diện Trường Dwight toàn cầu chính thức ký kết           hợp tác đầu tư phát triển Trường liên cấp Quốc           tế Dwight Hà Nội tại The Manor Central Park    Trường Dwight Hà Nội với khuôn viên rộng tới 35.000 m2 và tọa lạc ở vị trí đắc địa tại The Manor Central Park – khu đô thị cao cấp hàng đầu thuộc trung tâm Hà Nội, có   toạ độ vàng tại tâm điểm giao thoa của bốn quận/huyện Thanh Xuân, Hà Đông, Hoàng Mai và Thanh Trì. Khuôn viên trường là một “tác phẩm nghệ thuật kiến trúc” được thiết kế bởi Kiến trúc sư nổi tiếng   Carlos Zapata, nhà phát triển hàng đầu thế giới với những công trình đã được định danh biểu tượng.    Trường học có lối kiến trúc mở và cơ sở vật chất tuyệt đẹp với những lớp học có công nghệ tân tiến nhất, và hệ thống không gian kết nối như Sảnh, hội trường, giảng đường Spark of Genius, Trung tâm   công nghệ và thiết kế, Phòng thí nghiệm Marker Space cho tất cả các cấp học, Nhà hát Black Box, Trung tâm biểu diễn nghệ thuật 800 chỗ ngồi, Thư viện rộng 2.000 m2, một xưởng gốm, một nhạc viện và   các phòng công nghệ âm nhạc, hai nhà thi đấu thể thao đa năng lớn, và một trung tâm thể thao dưới nước tiên tiến.             —Ông Vũ Quang Hội – Chủ tịch Tập đoàn Bitexco chia           sẻ mong muốn mang đến Việt Nam một ngôi trường có           cơ sở vật chất tốt nhất,           hiện đại nhất thế giới     Tại lễ ký kết hợp tác, ông Vũ Quang Hội – Chủ tịch Tập đoàn Bitexco cho biết từ lâu ông đã tìm kiếm một đối tác thích hợp để có   thể đồng hành xây dựng môi trường giáo dục tốt nhất tại Hà Nội nói riêng và Việt Nam nói chung. Ông bày tỏ mong muốn mang đến Việt Nam một ngôi trường có đủ các cấp từ bậc mẫu giáo cho   đến phổ thông trung học, với những cơ sở vật chất tốt nhất, hiện đại nhất thế giới cùng những chương trình đào tạo nhân tài hàng đầu.    “Tôi mong muốn ngôi trường sẽ là cái nôi đào tạo ra những nhà lãnh đạo, những nhà khoa học, những nhà quản lý xuất sắc để trở thành những chủ nhân tương lai của đất nước và đưa Việt Nam tiến xa hơn   trên bản đồ thế giới” – ông Hội chia sẻ.            —Ông Blake Spahn – Phó Chủ tịch Hệ thống Giáo dục Dwight toàn cầu           cảm kích trước sự đồng hành của Tập đoàn Bitexco    Ông Blake Spahn – Phó Chủ tịch Hệ thống Giáo dục Dwight toàn cầu cũng rất cảm kích trước sự đồng hành của Chủ tịch Vũ Quang Hội cùng Tập đoàn Bitexco và hy vọng có thể mang đến Hà Nội một hình mẫu   giáo dục quốc tế hàng đầu, đáp ứng sự phát triển mạnh mẽ của nền kinh tế và văn hóa tại Việt Nam.    Dwight cam kết sẽ triển khai chương trình giáo dục dành cho thế hệ những nhà lãnh đạo toàn cầu tương lai và cam kết đồng hành cùng với đối tác qua mong muốn đem lại những lợi ích toàn diện cho học   sinh thông qua các phương pháp giáo dục đổi mới.    “Là một thành viên trong mạng lưới quốc tế của Trường Dwight, các học sinh tại Trường Dwight Hà Nội sẽ được tham gia vào các hoạt động trao đổi học sinh và hợp tác sáng tạo với bạn bè trên khắp thế   giới, có cơ hội dành 3 tháng hoặc 1 năm tại bất kỳ trường học của hệ thống trường Dwight trên toàn cầu, và khả năng được tiếp tục chuyển đến bất kì Trường Dwight tại nơi nào gia đình đang sinh   sống” – Ông Blake Spahn chia sẻ thêm.            —Phối cảnh Trường Dwight Hà Nội với khuôn viên rộng tới           35.000 m2 tọa lạc tại The Manor Central Park    Bên cạnh việc nhận được tư vấn định hướng đại học phù hợp cùng với sự hỗ trợ trong quá trình nhập học đại học tại bất cứ quốc gia nào trên thế giới, học sinh sẽ được đội ngũ các giảng viên xuất sắc   của trường hướng dẫn nghiên cứu chuyên sâu Chương trình Tú tài và luôn đổi mới phương pháp tiếp cận. Đội ngũ cố vấn đóng một vai trò quan trọng trong trường, với định hướng đại học cá nhân hóa cùng   sự hỗ trợ cảm xúc – xã hội mạnh mẽ.    Khẳng định vị thế trường học liên cấp quốc tế, Trường Dwight Hà Nội mong muốn mang đến cho mỗi học sinh của mình một trải nghiệm học đường thật hạnh phúc, trọn vẹn và tự tin – xứng tầm điểm đến lý   tưởng về giáo dục – nơi thế hệ trẻ được nuôi dưỡng, vun đắp tinh hoa, từ đó trở thành những nhà lãnh đạo toàn cầu trong tương lai.    Về phía Tập đoàn Bitexco cho biết, dự kiến ngôi trường sẽ mở cửa đón học sinh từ tháng 7-8/2023. \n",
      "\n",
      "\n",
      "\n"
     ]
    },
    {
     "name": "stdout",
     "output_type": "stream",
     "text": [
      "Nhiều món ăn chứa phụ gia nguy hiểm cho sức khỏe nếu dùng thường xuyên\n",
      "Tháng Tám 14, 2022\n",
      "https://www.tintucfn.com/business/nhieu-mon-an-chua-phu-gia-nguy-hiem-cho-suc-khoe-neu-dung-thuong-xuyen/\n",
      "   Chất phụ gia có thể có nguồn gốc từ thiên nhiên, hay được tổng hợp hoặc bán tổng hợp hóa học, đôi khi chúng cũng được tổng hợp từ vi sinh vật, ví dụ như các loại enzymes dùng để làm ra sữa chua.   Bên cạnh đó, chất phụ gia cũng có thể là các vitamin được người thêm vào thực phẩm nhằm tăng thêm tính bổ dưỡng… Tuy nhiên, có nhiều loại chất tạo nên hương vị cho đồ ăn, nhưng nếu ăn quá nhiều sẽ   gây hại cho sức khỏe.  Trà sữa    Đầu tiên không thể không nhắc đến trà sữa, hầu hết rất nhiều trang báo, thậm chí trên tivi cũng từng cảnh báo về đồ uống này. Trà sữa là một thức uống phổ biến nhất được rất nhiều bạn trẻ và người   lớn ưa chuộng. Có nhiều bạn trẻ có thể uống trà sữa mỗi ngày hoặc quá nhiều trong một tuần, điều này gây hại rất nhiều cho cơ thể vì trong trà sữa có chứa các chất phụ gia bao gồm kali sorbat,   natri Hexametaphosphate được sử dụng làm chất tạo hương… Khi sử dụng quá nhiều chất này sẽ gây rối loạn chuyển hóa và là nguyên nhân gây ra các bệnh khác. Ngoài ra lượng đường trong trà sữa càng   cao có thể gây nên béo phì, tiểu đường hay mỡ máu…  Thịt nguội, xúc xích    Thứ hai, không thể không nhắc đến món ăn được nhiều người ưa chuộng, vì không chỉ tiện lợi, nhanh chóng mà mùi vị cũng rất thơm ngon. Thịt nguội, xúc xích là các nguồn protein đã được nấu sẵn và vô   cùng tiện lợi. Tuy nhiên, các món ăn này thường được chế biến khá kỹ, chứa nhiều các chất natri và chất bảo quản như nitrat, nitrit. Chất này khi vào cơ thể con người sẽ tạo ra một chất mới có tên   là Nitrosa – mine góp phần gây ra các bệnh ung thư khác nhau. Ngoài ra việc sử dụng thường xuyên các loại thịt được chế biến sẵn như vậy dễ có khả năng mắc các bệnh như huyết áp cao, bệnh tim, bệnh   phổi tắc nghẽn mãn tính…  Mì ăn liền, mì tôm    Dù đã được cảnh báo rất nhiều về mức độ có hại cho sức khỏe, song, đây vẫn là lựa chọn chóng đói tiện lợi cho nhiều người. Mì ăn liền đã trở thành một món ăn quen thuộc và nhận được sự yêu thích vì   sự tiện lợi, nhanh chóng và ngon miệng. Nhưng bạn có biết rằng, trong mì ăn liền có tới 25 chất phụ gia thực phẩm, nếu cho trẻ em ăn nhiều mì ăn liền có thể sẽ làm giảm canxi trong máu. Trong đó,   lượng natri trong mì gói khá cao dễ gây nên các bện về tim mạch. Chúng ta có thể loại bỏ hoàn toàn mì ăn liền ra khỏi thực đơn ăn uống nhưng nếu thích cũng như vì tiện lợi, nhanh chóng, bạn nên lựa   chọn những loại mì ăn liền của những thương hiệu uy tín và ăn thêm cùng các loại thực phẩm khác hỗ trợ bổ sung thêm nhiều nhóm dinh dưỡng và năng lượng cho cơ thể được cân bằng.  Kẹo cao su    Mọi người thường được biết đến nhai kẹo cao su sẽ có thể giảm căng thẳng, kích thích vị giác và giúp thơm miêng. nhưng có mấy ai biết nếu nhai kẹo cao su quá nhiều sẽ gây hại nhất định đến sức khỏe   của chúng ta. Trong kẹo cao su có chứa chất Sor – Bitol, nếu bạn nhai cao su quá nhiều dễ gây nên tình trạng tiêu chảy và rối loạn tiêu hóa.    Ngoài ra, khi nhai kẹo cao su sẽ kích thích hệ tiêu hóa hoạt động, dịch và axit được tiết ra nhưng không được cung cấp thức ăn và gây nên bệnh viêm dạ dày. Vì vậy khi sử dụng kẹo cao su cần chú ý   nhai không quá 10 phút và sau khi đã ăn no, với những người ăn kẹo cao su nhằm hỗ trợ cai thuốc lá thì cần có sự tư vấn từ bác sĩ.  Khoai tây chiên và gà rán    Khoai tây chiên chứa axit béo trans (là một loại chất béo không bão hòa) có thể gây viêm nghiêm trọng cho toàn bộ cơ thể và làm phá hủy các màng tế bào ở tất cả các bộ phận. Vì vậy, dù khoai tây   chiên là món khoái khẩu của nhiều người nhưng chúng ta cũng cần hạn chế sử dụng.    Hơn nữa, khoai tây chiên cung cấp 500 miligam natri (tương đương khoảng 1/4 thìa cà phê muối), chiếm khoảng 1/3 tổng số miligam natri mà một người trưởng thành được sử dụng trong một ngày. Một   nghiên cứu của Tạp chí Y học New England cho thấy rằng khoai tây chiên khiến cơ thể tăng cân nhiều hơn so với đồ uống có đường, thịt chế biến, thịt đỏ và các loại thực phẩm khác.    Thịt gà được coi là một sự thay thế lành mạnh cho các loại thịt đỏ vì nó có hàm lượng chất béo bão hòa thấp hơn và là một nguồn cung cấp protein dồi dào. Nhưng phủ nó trong bột mì và chiên ngập   trong dầu sẽ biến thịt gà từ một loại protein bổ dưỡng thành một trong những bữa ăn không có lợi cho sức khỏe.    Vì khi bạn chiên gà trong dầu, thức ăn sẽ hấp thụ rất nhiều chất béo và làm tăng hàm lượng calo trong bữa ăn. Thậm chí tệ hơn, chiên thực phẩm ở nhiệt độ cao trong dầu thực vật (như dầu hạt cải và   dầu ngô) hoặc dầu hạt (như mè hoặc hạt dẻ) sẽ tạo thành chất béo chuyển hóa và có liên quan đến việc tăng nguy cơ mắc bệnh tim, ung thư, béo phì.  Kem    Kem là một món ăn vặt ưa thích của rất nhiều người từ trẻ em cho đến người lớn. Chúng thường đem lại cảm giác mát lạnh, ngọt ngào với những màu sắc vô cùng bắt mắt nhưng chính vì điều đó lại gây   tác hại đến sức khỏe của bạn vì kem có chứa rất nhiều các chất tạo màu nhân tạo vốn là các chất hóa học bị khuyến cáo không được sử dụng tùy tiện trong thực phẩm.    Tuy nhiên bạn có thể chọn cho mình những loại kem với thành phần tự nhiên hoặc tự làm kem tại nhà để đảm bảo an toàn. Ngoài ra, kem thường có nhiệt độ lạnh dễ bị viêm họng, đau họng và có thể bị   cảm lạnh dẫn tới sốt.    Những loại thực phẩm trên là món “khoái khẩu” của rất nhiều người, tuy nhiên, việc tiêu thụ quá nhiều, hay trong một thời gian dài có thể khiến sức khỏe gặp nhiều vấn đề, gây nên các bệnh nguy   hiểm. Vì vậy, việc kết hợp các chế độ ăn lành mạnh và tập thể dục thường xuyên sẽ là cách hiệu quả để bạn có thể vừa ăn được những món ưa thích, vừa không lo cơ thể gặp vấn để sức khỏe.    Việc sử dụng phụ gia thực phẩm được coi là một tiến bộ trong khoa học kỹ thuật, đóng góp quan trọng cho xã hội và nâng cao chất lượng sống của con người. Tuy nhiên, việc sử dụng phụ gia thực phẩm   phải được quản lý chặt chẽ, tránh lạm dụng, bởi lẽ các phụ gia thực phẩm cũng giống như rất nhiều công nghệ khác, đều là những “con dao hai lưỡi”.  Các phụ gia thực phẩm trong danh mục được phép sử dụng            Nhóm chất bảo quản: acid bezoic và các muối benzoate, acid sorbic và các muối sorbat, các sulfit (sulfua dioxide, natri metabisulfite, natri sulfit…), BHA, BHT, TBHQ                    Nhóm chất ngọt tổng hợp: aspartame, saccharin, acesulfam K, cyclamate, sucralose, alitam…                    Nhóm chất tạo ngọt năng lượng thấp: sorbitol, isomalt, maltitol, erythritol, xylitol, mannitol…                    Nhóm chất ngọt tự nhiên: steviol glycosides                    Nhóm phẩm màu tổng hợp: tartrazine, amaranth, sunset yellow, carmoisine, carmine, brilliant blue, fast green, erythrosine, ponceur 4R…                    Nhóm phẩm màu tự nhiên: curcumin, riboflavin, anthocyanin…                    Nhóm chất điều chỉnh độ acid: acid formic, acid acetic, acid propionic, acid butyric, acid lactic, acid oxalic, acid citric…                    Nhóm chất điều vị: mono natri glutamate, inosilate, gualynate…                    Nhóm chất giữ màu: nitrat, nitrit…                    Nhóm chất làm dày: xanthan gum, carrageenan, alginate, polyphosphate…                    Nhóm hương liệu: hương cam, hương chanh, hương socola, hương vani, hương dâu…         \n",
      "\n",
      "\n",
      "Doanh thu dịch vụ chuyển đổi số của FPT tăng mạnh\n",
      "Tháng Tám 14, 2022\n",
      "https://www.tintucfn.com/business/doanh-thu-dich-vu-chuyen-doi-so-cua-fpt-tang-manh/\n",
      "   Theo báo cáo mới nhất của FPT, 7 tháng đầu năm, doanh thu của tập đoàn đạt 23.219 tỷ đồng, lợi nhuận trước thuế 4.242 tỷ đồng, tăng lần lượt 22,2% và 23,7% so với cùng kỳ năm ngoái.   Lợi nhuận sau thuế cho cổ đông công ty mẹ là 2.906 tỷ đồng, tăng 30,1% và EPS đạt 2.659 đồng.    Tính riêng tháng 7, FPT ghi nhận 3.390 tỷ đồng doanh thu, 605 tỷ đồng lãi trước thuế và lãi sau thuế của cổ đông công ty mẹ 416 tỷ đồng.    Năm 2022, tập đoàn lên kế hoạch kế hoạch 42.420 tỷ đồng doanh thu và 7.618 tỷ đồng lợi nhuận trước thuế.     Như vậy, sau 7 tháng, FPT đã thực hiện được gần 55% mục tiêu doanh thu và gần 56% chỉ tiêu lợi nhuận trước thuế cả năm.    Trong 7 tháng đầu năm, mảng công nghệ tiếp tục đóng góp lớn nhất vào cơ cấu doanh thu và lợi nhuận trước thuế với tỉ lệ lần lượt là 57% và 45%.    Doanh thu mảng công nghệ đạt 13.259 tỷ đồng, lợi nhuận trước thuế là 1.923 tỷ đồng, tăng trưởng lần lượt 22,1% và 25,4% so với cùng kỳ năm ngoái. Tăng trưởng doanh thu dịch vụ   chuyển đổi số đạt 50%, trong đó doanh thu đến từ dịch vụ đám mây tăng gấp gần 2 lần so với cùng kỳ, tăng 85%, chiếm 55% doanh thu dịch vụ chuyển đổi số.    Mảng xuất khẩu phần mềm tiếp tục đà tăng trưởng mạnh mẽ đạt mức doanh thu 10.156 tỷ đồng, tương đương với mức tăng 29,1%, đóng góp bởi sức tăng đến từ thị trường   Mỹ, tăng 43% và APAC, tăng 62%. Thị trường Nhật Bản có sự phục hồi đáng kể với mức tăng trưởng doanh thu theo đồng Yên đạt 20,2%.    FPT cho biết, khối lượng đơn hàng ký mới tại thị trường nước ngoài của FPT tăng mạnh lên mức 13.762 tỷ đồng tương đương mức tăng trưởng 43,2%.    Được biết, mảng CNTT trong nước tăng 7% nửa đầu năm nhưng có thể tăng 20% trong nửa cuối năm nhờ backlog đạt 5.000 tỷ đồng. FPT tiếp tục phát huy lợi thế chi phí nhân công rẻ trong bối cảnh nguy cơ   suy thoái toàn cầu.    Tại báo cáo kết quả kinh doanh quý II cũng cho biết thêm, trong nửa đầu năm 2022, FPT ghi nhận nhiều đơn hàng lớn từ thị trường nước ngoài, trong đó có 13 dự án với quy mô trên 5 triệu USD, doanh   thu ký mới đạt 11,681 tỷ đồng (tăng trưởng 40% svck), tạo động lực tăng trưởng vững chắc cho nửa cuối năm 2022. \n",
      "\n",
      "\n"
     ]
    },
    {
     "name": "stdout",
     "output_type": "stream",
     "text": [
      "Lần đầu tiên nhãn Hòa Bình ‘đặt chân’ sang châu Âu\n",
      "Tháng Tám 13, 2022\n",
      "https://www.tintucfn.com/business/lan-dau-tien-nhan-hoa-binh-dat-chan-sang-chau-au/\n",
      "   Mới đây, Sở Nông nghiệp và Phát triển nông thôn tỉnh Hòa Bình phối hợp với Ủy ban Nhân dân huyện Kim Bôi, Công ty Cổ phần nông nghiệp hữu cơ FUSA tổ chức lễ xuất 1 tấn sản phẩm nhãn Sơn Thủy đầu   tiên sang EU.    Chủ tịch UBND tỉnh Hòa Bình Bùi Văn Khánh nhấn mạnh đây là thành công ban đầu từ sự nỗ lực của người dân, cùng với sự hỗ trợ của chính quyền, cơ quan chuyên môn các cấp.    Qua nhiều năm, sản phẩm nhãn Sơn Thủy đã vượt qua những khó khăn về kỹ thuật canh tác, cũng như các yêu cầu khắt khe về kỹ thuật để thành công trong việc xuất khẩu chinh phục thị trường EU.    Chi cục trưởng Chi cục bảo vệ thực vật, Sở Nông nghiệp và Phát triển nông thôn tỉnh Hòa Bình Nguyễn Hồng Yến cho biết, mẫu nhãn Sơn Thủy đã có kết quả phân tích tại phòng thử nghiệm được chỉ định   theo tiêu chuẩn EU, tất cả ba mẫu đều đạt yêu cầu kỹ thuật của 821 chỉ tiêu kiểm định về an toàn thực phẩm theo yêu cầu của EU.    Với những ưu điểm về khí hậu, đất đai, cùng với sự kiên trì, chịu khó của người người nông dân, cây nhãn đã dần có chỗ đứng vững chắc, trở thành cây trồng chủ lực và sinh kế của người dân địa   phương.    Đến nay diện tích nhãn toàn xã Xuân Thủy đạt gần 200ha, riêng Hợp tác xã Sơn Thủy đạt 34ha.    Theo báo cáo Sở Nông nghiệp và Phát triển nông thôn tỉnh Hòa Bình, nhãn Sơn Thủy là sản phẩm đầu tiên của tỉnh Hòa Bình được cấp Mã số vùng trồng từ năm 2019. Mã số vùng trồng được coi như giấy   thông hành để sản phẩm này xuất khẩu chính ngạch sang thị trường quốc tế. Đặc biệt là thị trường khó tính nhất EU.    Từ năm 2016 sản phẩm nhãn Sơn Thủy đã được Cục Sở hữu trí tuệ cấp bảo hộ nhãn hiệu tập thể. Tiếp đó là hàng loạt các chứng nhận được cấp về An toàn thực phẩm (năm 2016); VietGAP (2019); OCOP (2020)   đã giúp thương hiệu nhãn Sơn Thủy vươn xa hơn đến các thị trường trong và ngoài nước.    Thời gian tới, Sở Nông nghiệp và Phát triển nông thôn Hòa Bình cùng với Công ty Cổ phần nông nghiệp hữu cơ FUSA đặt mục tiêu vụ nhãn năm 2022 sẽ xuất khẩu được khoảng 50 tấn \n",
      "\n",
      "\n",
      "Kinh Bắc trần tình khoản lãi đột biến gần 2.000 tỷ đồng nhờ biện pháp kế toán\n",
      "Tháng Tám 12, 2022\n",
      "https://www.tintucfn.com/business/kinh-bac-tran-tinh-khoan-lai-dot-bien-gan-2-000-ty-dong-nho-bien-phap-ke-toan/\n",
      "       Tổng công ty Phát triển Đô thị Kinh Bắc – CTCP (MCK: KBC) mới đây đã có phản hồi về các giao dịch tạm ứng lãnh đạo, nhân viên và lợi nhuận khác đột biến trong Báo cáo tài chính quý II/2022.            Thứ nhất, liên quan tới khoản thu nhập khác trong BCTC quý II/2022 tăng đột biến lên mức 1.918 tỷ đồng (cùng kỳ 1,5 tỷ đồng) giúp lợi nhuận sau thuế quý II cao gấp 24 lần lên 1.933 tỷ       đồng, Kinh Bắc cho biết năm 2022 công ty có chiến lược mở rộng các KCN hiện hữu trên địa bàn cả nước, tiến hành sở hữu thêm các khoản đầu tư để nâng sở hữu tại các KCN tiềm năng, từ đó mở       rộng quỹ đất.            Do đó, công ty đã tiến hành mua thêm 28,5% vốn cổ phần của CTCP Đầu tư Sài Gòn – Đà Nẵng (MCK: SDN), nâng tổng số cổ phần nắm giữ lên 48%. Sau nâng sở hữu, KBC sẽ hỗ trợ để đảm bảo các dự án       của SDN trong thời gian tới được triển khai mạnh.            Cụ thể, Đầu tư Sài Gòn Đà Nẵng hiện đang là chủ đầu tư KCN Liên Chiểu (289 ha), KCN Khánh Hòa mở rộng (133 ha), dự án đô thị Bầu Tràm Lake side (46 ha), dự án đô thị Dragon City (78 ha) và các       dự án khu dân cư, nhà ở xã hội khác. Ban lãnh đạo Kinh Bắc đánh giá tiềm năng phát triển các dự án tại công ty này rất lớn và sẽ mang lại lợi ích to lớn cho cổ đông trong ít nhất 3 đến 5 năm       tới.            Kinh Bắc khẳng định việc đánh giá lại khoản đầu tư được thực hiện theo quy trình, chuẩn mực và quy ước pháp lý rõ ràng. Đồng thời khoản thu nhập khác trên cũng được căn cứ trên kết quả báo cáo       định giá giá trị doanh nghiệp SDN từ các tổ chức định giá uy tín và trên cơ sở thận trọng, từ đó mới dẫn tới con số thu nhập khác 1.918 tỷ đồng trong BCTC.            Theo đó, nhờ khoản thu trên mà công ty mới có cơ sở để báo lãi hơn 1.900 tỷ đồng trong quý thứ II/2022.            Ngoài ra, tính tới cuối quý II/2022, Kinh Bắc ghi nhận tạm ứng cho nhân viên gần 1.744 tỷ đồng, tăng 841 tỷ đồng so với đầu năm.            Liên quan tới vấn đề tạm ứng nhân viên tăng mạnh, Kinh Bắc cho biết một trong những hậu quả của cuộc chiến tranh thương mại Trung – Mỹ là làn sóng chuyển dịch địa điểm đầu tư sang các quốc gia       Đông Nam Á, trong đó Việt Nam là mối quan tâm hàng đầu nhờ tình hình kinh tế – chính trị ổn định và cơ chế đầu tư thông thoáng.            Nắm bắt cơ hội này, lãnh đạo Kinh Bắc đã lập kế hoạch, tập trung mọi nguồn lực tài chính và nhân lực để mở rộng quỹ đất đón đầu làn sóng chuyển dịch đầu tư.            Tính đến nay, tổng công ty đã được ghi nhận là chủ đầu tư của cụm công nghiệp (CCN) Tân Lập (71,2 ha), CCN Phước Vĩnh Đông 2 (49,1 ha), CCN Phước Vĩnh Đông 4 (49,8 ha), khu công nghiệp (KCN)       Tân Lập (654 ha), KCN Lộc Giang (466 ha) tại tỉnh Long An; CCN Đặng Lễ, Chính Nghĩa, Kim Động tại Hưng Yên (225 ha); KCN Tràng Duệ mở rộng (687 ha).            Đặc biệt, Kinh Bắc thông tin đang chuẩn bị các thủ tục cần thiết để khởi công xây dựng dự án nhà máy điện tử Quảng Yên với quy mô diện tích 33,06 ha ở Quảng Minh.            Kinh Bắc cho biết để đạt được kết quả trên, ngoài nỗ lực của doanh nghiệp thì chính sách pháp lý thông thoáng cũng đóng góp không nhỏ.            Cụ thể, trên cơ sở quy định của pháp luật và quy chế quản trị nội bộ, doanh nghiệp và các đơn vị thành viên đã tạm ứng cho cán bộ, nhân viên thực hiện các nghiệp vụ bồi thường, giải phóng mặt       bằng, nhận chuyển nhượng quyền sử dụng đất của người dân tại địa phương có kế hoạch thực hiện dự án.            Doanh nghiệp khẳng định đây là nghiệp vụ thường xuyên phục vụ hoạt động, được thực hiện theo quy định của pháp luật và tuân thủ nghiêm túc quy chế quản trị nội bộ. \n",
      "\n",
      "\n"
     ]
    },
    {
     "ename": "KeyboardInterrupt",
     "evalue": "",
     "output_type": "error",
     "traceback": [
      "\u001b[1;31m---------------------------------------------------------------------------\u001b[0m",
      "\u001b[1;31mKeyboardInterrupt\u001b[0m                         Traceback (most recent call last)",
      "Input \u001b[1;32mIn [42]\u001b[0m, in \u001b[0;36m<cell line: 8>\u001b[1;34m()\u001b[0m\n\u001b[0;32m     21\u001b[0m newsURL \u001b[38;5;241m=\u001b[39m i\u001b[38;5;241m.\u001b[39mfind(\u001b[38;5;124m\"\u001b[39m\u001b[38;5;124ma\u001b[39m\u001b[38;5;124m\"\u001b[39m)[\u001b[38;5;124m\"\u001b[39m\u001b[38;5;124mhref\u001b[39m\u001b[38;5;124m\"\u001b[39m]\n\u001b[0;32m     24\u001b[0m insideURL \u001b[38;5;241m=\u001b[39m Request(newsURL, headers\u001b[38;5;241m=\u001b[39m{\u001b[38;5;124m'\u001b[39m\u001b[38;5;124mUser-Agent\u001b[39m\u001b[38;5;124m'\u001b[39m: \u001b[38;5;124m'\u001b[39m\u001b[38;5;124mMozilla/5.0\u001b[39m\u001b[38;5;124m'\u001b[39m})\n\u001b[1;32m---> 25\u001b[0m webpage2 \u001b[38;5;241m=\u001b[39m \u001b[43murlopen\u001b[49m\u001b[43m(\u001b[49m\u001b[43minsideURL\u001b[49m\u001b[43m)\u001b[49m\u001b[38;5;241m.\u001b[39mread()\n\u001b[0;32m     26\u001b[0m soup2 \u001b[38;5;241m=\u001b[39m BeautifulSoup(webpage2, \u001b[38;5;124m'\u001b[39m\u001b[38;5;124mhtml.parser\u001b[39m\u001b[38;5;124m'\u001b[39m)\n\u001b[0;32m     27\u001b[0m \u001b[38;5;66;03m#print(soup2)\u001b[39;00m\n",
      "File \u001b[1;32m~\\anaconda3\\lib\\urllib\\request.py:214\u001b[0m, in \u001b[0;36murlopen\u001b[1;34m(url, data, timeout, cafile, capath, cadefault, context)\u001b[0m\n\u001b[0;32m    212\u001b[0m \u001b[38;5;28;01melse\u001b[39;00m:\n\u001b[0;32m    213\u001b[0m     opener \u001b[38;5;241m=\u001b[39m _opener\n\u001b[1;32m--> 214\u001b[0m \u001b[38;5;28;01mreturn\u001b[39;00m \u001b[43mopener\u001b[49m\u001b[38;5;241;43m.\u001b[39;49m\u001b[43mopen\u001b[49m\u001b[43m(\u001b[49m\u001b[43murl\u001b[49m\u001b[43m,\u001b[49m\u001b[43m \u001b[49m\u001b[43mdata\u001b[49m\u001b[43m,\u001b[49m\u001b[43m \u001b[49m\u001b[43mtimeout\u001b[49m\u001b[43m)\u001b[49m\n",
      "File \u001b[1;32m~\\anaconda3\\lib\\urllib\\request.py:517\u001b[0m, in \u001b[0;36mOpenerDirector.open\u001b[1;34m(self, fullurl, data, timeout)\u001b[0m\n\u001b[0;32m    514\u001b[0m     req \u001b[38;5;241m=\u001b[39m meth(req)\n\u001b[0;32m    516\u001b[0m sys\u001b[38;5;241m.\u001b[39maudit(\u001b[38;5;124m'\u001b[39m\u001b[38;5;124murllib.Request\u001b[39m\u001b[38;5;124m'\u001b[39m, req\u001b[38;5;241m.\u001b[39mfull_url, req\u001b[38;5;241m.\u001b[39mdata, req\u001b[38;5;241m.\u001b[39mheaders, req\u001b[38;5;241m.\u001b[39mget_method())\n\u001b[1;32m--> 517\u001b[0m response \u001b[38;5;241m=\u001b[39m \u001b[38;5;28;43mself\u001b[39;49m\u001b[38;5;241;43m.\u001b[39;49m\u001b[43m_open\u001b[49m\u001b[43m(\u001b[49m\u001b[43mreq\u001b[49m\u001b[43m,\u001b[49m\u001b[43m \u001b[49m\u001b[43mdata\u001b[49m\u001b[43m)\u001b[49m\n\u001b[0;32m    519\u001b[0m \u001b[38;5;66;03m# post-process response\u001b[39;00m\n\u001b[0;32m    520\u001b[0m meth_name \u001b[38;5;241m=\u001b[39m protocol\u001b[38;5;241m+\u001b[39m\u001b[38;5;124m\"\u001b[39m\u001b[38;5;124m_response\u001b[39m\u001b[38;5;124m\"\u001b[39m\n",
      "File \u001b[1;32m~\\anaconda3\\lib\\urllib\\request.py:534\u001b[0m, in \u001b[0;36mOpenerDirector._open\u001b[1;34m(self, req, data)\u001b[0m\n\u001b[0;32m    531\u001b[0m     \u001b[38;5;28;01mreturn\u001b[39;00m result\n\u001b[0;32m    533\u001b[0m protocol \u001b[38;5;241m=\u001b[39m req\u001b[38;5;241m.\u001b[39mtype\n\u001b[1;32m--> 534\u001b[0m result \u001b[38;5;241m=\u001b[39m \u001b[38;5;28;43mself\u001b[39;49m\u001b[38;5;241;43m.\u001b[39;49m\u001b[43m_call_chain\u001b[49m\u001b[43m(\u001b[49m\u001b[38;5;28;43mself\u001b[39;49m\u001b[38;5;241;43m.\u001b[39;49m\u001b[43mhandle_open\u001b[49m\u001b[43m,\u001b[49m\u001b[43m \u001b[49m\u001b[43mprotocol\u001b[49m\u001b[43m,\u001b[49m\u001b[43m \u001b[49m\u001b[43mprotocol\u001b[49m\u001b[43m \u001b[49m\u001b[38;5;241;43m+\u001b[39;49m\n\u001b[0;32m    535\u001b[0m \u001b[43m                          \u001b[49m\u001b[38;5;124;43m'\u001b[39;49m\u001b[38;5;124;43m_open\u001b[39;49m\u001b[38;5;124;43m'\u001b[39;49m\u001b[43m,\u001b[49m\u001b[43m \u001b[49m\u001b[43mreq\u001b[49m\u001b[43m)\u001b[49m\n\u001b[0;32m    536\u001b[0m \u001b[38;5;28;01mif\u001b[39;00m result:\n\u001b[0;32m    537\u001b[0m     \u001b[38;5;28;01mreturn\u001b[39;00m result\n",
      "File \u001b[1;32m~\\anaconda3\\lib\\urllib\\request.py:494\u001b[0m, in \u001b[0;36mOpenerDirector._call_chain\u001b[1;34m(self, chain, kind, meth_name, *args)\u001b[0m\n\u001b[0;32m    492\u001b[0m \u001b[38;5;28;01mfor\u001b[39;00m handler \u001b[38;5;129;01min\u001b[39;00m handlers:\n\u001b[0;32m    493\u001b[0m     func \u001b[38;5;241m=\u001b[39m \u001b[38;5;28mgetattr\u001b[39m(handler, meth_name)\n\u001b[1;32m--> 494\u001b[0m     result \u001b[38;5;241m=\u001b[39m \u001b[43mfunc\u001b[49m\u001b[43m(\u001b[49m\u001b[38;5;241;43m*\u001b[39;49m\u001b[43margs\u001b[49m\u001b[43m)\u001b[49m\n\u001b[0;32m    495\u001b[0m     \u001b[38;5;28;01mif\u001b[39;00m result \u001b[38;5;129;01mis\u001b[39;00m \u001b[38;5;129;01mnot\u001b[39;00m \u001b[38;5;28;01mNone\u001b[39;00m:\n\u001b[0;32m    496\u001b[0m         \u001b[38;5;28;01mreturn\u001b[39;00m result\n",
      "File \u001b[1;32m~\\anaconda3\\lib\\urllib\\request.py:1389\u001b[0m, in \u001b[0;36mHTTPSHandler.https_open\u001b[1;34m(self, req)\u001b[0m\n\u001b[0;32m   1388\u001b[0m \u001b[38;5;28;01mdef\u001b[39;00m \u001b[38;5;21mhttps_open\u001b[39m(\u001b[38;5;28mself\u001b[39m, req):\n\u001b[1;32m-> 1389\u001b[0m     \u001b[38;5;28;01mreturn\u001b[39;00m \u001b[38;5;28;43mself\u001b[39;49m\u001b[38;5;241;43m.\u001b[39;49m\u001b[43mdo_open\u001b[49m\u001b[43m(\u001b[49m\u001b[43mhttp\u001b[49m\u001b[38;5;241;43m.\u001b[39;49m\u001b[43mclient\u001b[49m\u001b[38;5;241;43m.\u001b[39;49m\u001b[43mHTTPSConnection\u001b[49m\u001b[43m,\u001b[49m\u001b[43m \u001b[49m\u001b[43mreq\u001b[49m\u001b[43m,\u001b[49m\n\u001b[0;32m   1390\u001b[0m \u001b[43m        \u001b[49m\u001b[43mcontext\u001b[49m\u001b[38;5;241;43m=\u001b[39;49m\u001b[38;5;28;43mself\u001b[39;49m\u001b[38;5;241;43m.\u001b[39;49m\u001b[43m_context\u001b[49m\u001b[43m,\u001b[49m\u001b[43m \u001b[49m\u001b[43mcheck_hostname\u001b[49m\u001b[38;5;241;43m=\u001b[39;49m\u001b[38;5;28;43mself\u001b[39;49m\u001b[38;5;241;43m.\u001b[39;49m\u001b[43m_check_hostname\u001b[49m\u001b[43m)\u001b[49m\n",
      "File \u001b[1;32m~\\anaconda3\\lib\\urllib\\request.py:1346\u001b[0m, in \u001b[0;36mAbstractHTTPHandler.do_open\u001b[1;34m(self, http_class, req, **http_conn_args)\u001b[0m\n\u001b[0;32m   1344\u001b[0m \u001b[38;5;28;01mtry\u001b[39;00m:\n\u001b[0;32m   1345\u001b[0m     \u001b[38;5;28;01mtry\u001b[39;00m:\n\u001b[1;32m-> 1346\u001b[0m         \u001b[43mh\u001b[49m\u001b[38;5;241;43m.\u001b[39;49m\u001b[43mrequest\u001b[49m\u001b[43m(\u001b[49m\u001b[43mreq\u001b[49m\u001b[38;5;241;43m.\u001b[39;49m\u001b[43mget_method\u001b[49m\u001b[43m(\u001b[49m\u001b[43m)\u001b[49m\u001b[43m,\u001b[49m\u001b[43m \u001b[49m\u001b[43mreq\u001b[49m\u001b[38;5;241;43m.\u001b[39;49m\u001b[43mselector\u001b[49m\u001b[43m,\u001b[49m\u001b[43m \u001b[49m\u001b[43mreq\u001b[49m\u001b[38;5;241;43m.\u001b[39;49m\u001b[43mdata\u001b[49m\u001b[43m,\u001b[49m\u001b[43m \u001b[49m\u001b[43mheaders\u001b[49m\u001b[43m,\u001b[49m\n\u001b[0;32m   1347\u001b[0m \u001b[43m                  \u001b[49m\u001b[43mencode_chunked\u001b[49m\u001b[38;5;241;43m=\u001b[39;49m\u001b[43mreq\u001b[49m\u001b[38;5;241;43m.\u001b[39;49m\u001b[43mhas_header\u001b[49m\u001b[43m(\u001b[49m\u001b[38;5;124;43m'\u001b[39;49m\u001b[38;5;124;43mTransfer-encoding\u001b[39;49m\u001b[38;5;124;43m'\u001b[39;49m\u001b[43m)\u001b[49m\u001b[43m)\u001b[49m\n\u001b[0;32m   1348\u001b[0m     \u001b[38;5;28;01mexcept\u001b[39;00m \u001b[38;5;167;01mOSError\u001b[39;00m \u001b[38;5;28;01mas\u001b[39;00m err: \u001b[38;5;66;03m# timeout error\u001b[39;00m\n\u001b[0;32m   1349\u001b[0m         \u001b[38;5;28;01mraise\u001b[39;00m URLError(err)\n",
      "File \u001b[1;32m~\\anaconda3\\lib\\http\\client.py:1285\u001b[0m, in \u001b[0;36mHTTPConnection.request\u001b[1;34m(self, method, url, body, headers, encode_chunked)\u001b[0m\n\u001b[0;32m   1282\u001b[0m \u001b[38;5;28;01mdef\u001b[39;00m \u001b[38;5;21mrequest\u001b[39m(\u001b[38;5;28mself\u001b[39m, method, url, body\u001b[38;5;241m=\u001b[39m\u001b[38;5;28;01mNone\u001b[39;00m, headers\u001b[38;5;241m=\u001b[39m{}, \u001b[38;5;241m*\u001b[39m,\n\u001b[0;32m   1283\u001b[0m             encode_chunked\u001b[38;5;241m=\u001b[39m\u001b[38;5;28;01mFalse\u001b[39;00m):\n\u001b[0;32m   1284\u001b[0m     \u001b[38;5;124;03m\"\"\"Send a complete request to the server.\"\"\"\u001b[39;00m\n\u001b[1;32m-> 1285\u001b[0m     \u001b[38;5;28;43mself\u001b[39;49m\u001b[38;5;241;43m.\u001b[39;49m\u001b[43m_send_request\u001b[49m\u001b[43m(\u001b[49m\u001b[43mmethod\u001b[49m\u001b[43m,\u001b[49m\u001b[43m \u001b[49m\u001b[43murl\u001b[49m\u001b[43m,\u001b[49m\u001b[43m \u001b[49m\u001b[43mbody\u001b[49m\u001b[43m,\u001b[49m\u001b[43m \u001b[49m\u001b[43mheaders\u001b[49m\u001b[43m,\u001b[49m\u001b[43m \u001b[49m\u001b[43mencode_chunked\u001b[49m\u001b[43m)\u001b[49m\n",
      "File \u001b[1;32m~\\anaconda3\\lib\\http\\client.py:1331\u001b[0m, in \u001b[0;36mHTTPConnection._send_request\u001b[1;34m(self, method, url, body, headers, encode_chunked)\u001b[0m\n\u001b[0;32m   1327\u001b[0m \u001b[38;5;28;01mif\u001b[39;00m \u001b[38;5;28misinstance\u001b[39m(body, \u001b[38;5;28mstr\u001b[39m):\n\u001b[0;32m   1328\u001b[0m     \u001b[38;5;66;03m# RFC 2616 Section 3.7.1 says that text default has a\u001b[39;00m\n\u001b[0;32m   1329\u001b[0m     \u001b[38;5;66;03m# default charset of iso-8859-1.\u001b[39;00m\n\u001b[0;32m   1330\u001b[0m     body \u001b[38;5;241m=\u001b[39m _encode(body, \u001b[38;5;124m'\u001b[39m\u001b[38;5;124mbody\u001b[39m\u001b[38;5;124m'\u001b[39m)\n\u001b[1;32m-> 1331\u001b[0m \u001b[38;5;28;43mself\u001b[39;49m\u001b[38;5;241;43m.\u001b[39;49m\u001b[43mendheaders\u001b[49m\u001b[43m(\u001b[49m\u001b[43mbody\u001b[49m\u001b[43m,\u001b[49m\u001b[43m \u001b[49m\u001b[43mencode_chunked\u001b[49m\u001b[38;5;241;43m=\u001b[39;49m\u001b[43mencode_chunked\u001b[49m\u001b[43m)\u001b[49m\n",
      "File \u001b[1;32m~\\anaconda3\\lib\\http\\client.py:1280\u001b[0m, in \u001b[0;36mHTTPConnection.endheaders\u001b[1;34m(self, message_body, encode_chunked)\u001b[0m\n\u001b[0;32m   1278\u001b[0m \u001b[38;5;28;01melse\u001b[39;00m:\n\u001b[0;32m   1279\u001b[0m     \u001b[38;5;28;01mraise\u001b[39;00m CannotSendHeader()\n\u001b[1;32m-> 1280\u001b[0m \u001b[38;5;28;43mself\u001b[39;49m\u001b[38;5;241;43m.\u001b[39;49m\u001b[43m_send_output\u001b[49m\u001b[43m(\u001b[49m\u001b[43mmessage_body\u001b[49m\u001b[43m,\u001b[49m\u001b[43m \u001b[49m\u001b[43mencode_chunked\u001b[49m\u001b[38;5;241;43m=\u001b[39;49m\u001b[43mencode_chunked\u001b[49m\u001b[43m)\u001b[49m\n",
      "File \u001b[1;32m~\\anaconda3\\lib\\http\\client.py:1040\u001b[0m, in \u001b[0;36mHTTPConnection._send_output\u001b[1;34m(self, message_body, encode_chunked)\u001b[0m\n\u001b[0;32m   1038\u001b[0m msg \u001b[38;5;241m=\u001b[39m \u001b[38;5;124mb\u001b[39m\u001b[38;5;124m\"\u001b[39m\u001b[38;5;130;01m\\r\u001b[39;00m\u001b[38;5;130;01m\\n\u001b[39;00m\u001b[38;5;124m\"\u001b[39m\u001b[38;5;241m.\u001b[39mjoin(\u001b[38;5;28mself\u001b[39m\u001b[38;5;241m.\u001b[39m_buffer)\n\u001b[0;32m   1039\u001b[0m \u001b[38;5;28;01mdel\u001b[39;00m \u001b[38;5;28mself\u001b[39m\u001b[38;5;241m.\u001b[39m_buffer[:]\n\u001b[1;32m-> 1040\u001b[0m \u001b[38;5;28;43mself\u001b[39;49m\u001b[38;5;241;43m.\u001b[39;49m\u001b[43msend\u001b[49m\u001b[43m(\u001b[49m\u001b[43mmsg\u001b[49m\u001b[43m)\u001b[49m\n\u001b[0;32m   1042\u001b[0m \u001b[38;5;28;01mif\u001b[39;00m message_body \u001b[38;5;129;01mis\u001b[39;00m \u001b[38;5;129;01mnot\u001b[39;00m \u001b[38;5;28;01mNone\u001b[39;00m:\n\u001b[0;32m   1043\u001b[0m \n\u001b[0;32m   1044\u001b[0m     \u001b[38;5;66;03m# create a consistent interface to message_body\u001b[39;00m\n\u001b[0;32m   1045\u001b[0m     \u001b[38;5;28;01mif\u001b[39;00m \u001b[38;5;28mhasattr\u001b[39m(message_body, \u001b[38;5;124m'\u001b[39m\u001b[38;5;124mread\u001b[39m\u001b[38;5;124m'\u001b[39m):\n\u001b[0;32m   1046\u001b[0m         \u001b[38;5;66;03m# Let file-like take precedence over byte-like.  This\u001b[39;00m\n\u001b[0;32m   1047\u001b[0m         \u001b[38;5;66;03m# is needed to allow the current position of mmap'ed\u001b[39;00m\n\u001b[0;32m   1048\u001b[0m         \u001b[38;5;66;03m# files to be taken into account.\u001b[39;00m\n",
      "File \u001b[1;32m~\\anaconda3\\lib\\http\\client.py:980\u001b[0m, in \u001b[0;36mHTTPConnection.send\u001b[1;34m(self, data)\u001b[0m\n\u001b[0;32m    978\u001b[0m \u001b[38;5;28;01mif\u001b[39;00m \u001b[38;5;28mself\u001b[39m\u001b[38;5;241m.\u001b[39msock \u001b[38;5;129;01mis\u001b[39;00m \u001b[38;5;28;01mNone\u001b[39;00m:\n\u001b[0;32m    979\u001b[0m     \u001b[38;5;28;01mif\u001b[39;00m \u001b[38;5;28mself\u001b[39m\u001b[38;5;241m.\u001b[39mauto_open:\n\u001b[1;32m--> 980\u001b[0m         \u001b[38;5;28;43mself\u001b[39;49m\u001b[38;5;241;43m.\u001b[39;49m\u001b[43mconnect\u001b[49m\u001b[43m(\u001b[49m\u001b[43m)\u001b[49m\n\u001b[0;32m    981\u001b[0m     \u001b[38;5;28;01melse\u001b[39;00m:\n\u001b[0;32m    982\u001b[0m         \u001b[38;5;28;01mraise\u001b[39;00m NotConnected()\n",
      "File \u001b[1;32m~\\anaconda3\\lib\\http\\client.py:1454\u001b[0m, in \u001b[0;36mHTTPSConnection.connect\u001b[1;34m(self)\u001b[0m\n\u001b[0;32m   1451\u001b[0m \u001b[38;5;28;01melse\u001b[39;00m:\n\u001b[0;32m   1452\u001b[0m     server_hostname \u001b[38;5;241m=\u001b[39m \u001b[38;5;28mself\u001b[39m\u001b[38;5;241m.\u001b[39mhost\n\u001b[1;32m-> 1454\u001b[0m \u001b[38;5;28mself\u001b[39m\u001b[38;5;241m.\u001b[39msock \u001b[38;5;241m=\u001b[39m \u001b[38;5;28;43mself\u001b[39;49m\u001b[38;5;241;43m.\u001b[39;49m\u001b[43m_context\u001b[49m\u001b[38;5;241;43m.\u001b[39;49m\u001b[43mwrap_socket\u001b[49m\u001b[43m(\u001b[49m\u001b[38;5;28;43mself\u001b[39;49m\u001b[38;5;241;43m.\u001b[39;49m\u001b[43msock\u001b[49m\u001b[43m,\u001b[49m\n\u001b[0;32m   1455\u001b[0m \u001b[43m                                      \u001b[49m\u001b[43mserver_hostname\u001b[49m\u001b[38;5;241;43m=\u001b[39;49m\u001b[43mserver_hostname\u001b[49m\u001b[43m)\u001b[49m\n",
      "File \u001b[1;32m~\\anaconda3\\lib\\ssl.py:500\u001b[0m, in \u001b[0;36mSSLContext.wrap_socket\u001b[1;34m(self, sock, server_side, do_handshake_on_connect, suppress_ragged_eofs, server_hostname, session)\u001b[0m\n\u001b[0;32m    494\u001b[0m \u001b[38;5;28;01mdef\u001b[39;00m \u001b[38;5;21mwrap_socket\u001b[39m(\u001b[38;5;28mself\u001b[39m, sock, server_side\u001b[38;5;241m=\u001b[39m\u001b[38;5;28;01mFalse\u001b[39;00m,\n\u001b[0;32m    495\u001b[0m                 do_handshake_on_connect\u001b[38;5;241m=\u001b[39m\u001b[38;5;28;01mTrue\u001b[39;00m,\n\u001b[0;32m    496\u001b[0m                 suppress_ragged_eofs\u001b[38;5;241m=\u001b[39m\u001b[38;5;28;01mTrue\u001b[39;00m,\n\u001b[0;32m    497\u001b[0m                 server_hostname\u001b[38;5;241m=\u001b[39m\u001b[38;5;28;01mNone\u001b[39;00m, session\u001b[38;5;241m=\u001b[39m\u001b[38;5;28;01mNone\u001b[39;00m):\n\u001b[0;32m    498\u001b[0m     \u001b[38;5;66;03m# SSLSocket class handles server_hostname encoding before it calls\u001b[39;00m\n\u001b[0;32m    499\u001b[0m     \u001b[38;5;66;03m# ctx._wrap_socket()\u001b[39;00m\n\u001b[1;32m--> 500\u001b[0m     \u001b[38;5;28;01mreturn\u001b[39;00m \u001b[38;5;28;43mself\u001b[39;49m\u001b[38;5;241;43m.\u001b[39;49m\u001b[43msslsocket_class\u001b[49m\u001b[38;5;241;43m.\u001b[39;49m\u001b[43m_create\u001b[49m\u001b[43m(\u001b[49m\n\u001b[0;32m    501\u001b[0m \u001b[43m        \u001b[49m\u001b[43msock\u001b[49m\u001b[38;5;241;43m=\u001b[39;49m\u001b[43msock\u001b[49m\u001b[43m,\u001b[49m\n\u001b[0;32m    502\u001b[0m \u001b[43m        \u001b[49m\u001b[43mserver_side\u001b[49m\u001b[38;5;241;43m=\u001b[39;49m\u001b[43mserver_side\u001b[49m\u001b[43m,\u001b[49m\n\u001b[0;32m    503\u001b[0m \u001b[43m        \u001b[49m\u001b[43mdo_handshake_on_connect\u001b[49m\u001b[38;5;241;43m=\u001b[39;49m\u001b[43mdo_handshake_on_connect\u001b[49m\u001b[43m,\u001b[49m\n\u001b[0;32m    504\u001b[0m \u001b[43m        \u001b[49m\u001b[43msuppress_ragged_eofs\u001b[49m\u001b[38;5;241;43m=\u001b[39;49m\u001b[43msuppress_ragged_eofs\u001b[49m\u001b[43m,\u001b[49m\n\u001b[0;32m    505\u001b[0m \u001b[43m        \u001b[49m\u001b[43mserver_hostname\u001b[49m\u001b[38;5;241;43m=\u001b[39;49m\u001b[43mserver_hostname\u001b[49m\u001b[43m,\u001b[49m\n\u001b[0;32m    506\u001b[0m \u001b[43m        \u001b[49m\u001b[43mcontext\u001b[49m\u001b[38;5;241;43m=\u001b[39;49m\u001b[38;5;28;43mself\u001b[39;49m\u001b[43m,\u001b[49m\n\u001b[0;32m    507\u001b[0m \u001b[43m        \u001b[49m\u001b[43msession\u001b[49m\u001b[38;5;241;43m=\u001b[39;49m\u001b[43msession\u001b[49m\n\u001b[0;32m    508\u001b[0m \u001b[43m    \u001b[49m\u001b[43m)\u001b[49m\n",
      "File \u001b[1;32m~\\anaconda3\\lib\\ssl.py:1040\u001b[0m, in \u001b[0;36mSSLSocket._create\u001b[1;34m(cls, sock, server_side, do_handshake_on_connect, suppress_ragged_eofs, server_hostname, context, session)\u001b[0m\n\u001b[0;32m   1037\u001b[0m         \u001b[38;5;28;01mif\u001b[39;00m timeout \u001b[38;5;241m==\u001b[39m \u001b[38;5;241m0.0\u001b[39m:\n\u001b[0;32m   1038\u001b[0m             \u001b[38;5;66;03m# non-blocking\u001b[39;00m\n\u001b[0;32m   1039\u001b[0m             \u001b[38;5;28;01mraise\u001b[39;00m \u001b[38;5;167;01mValueError\u001b[39;00m(\u001b[38;5;124m\"\u001b[39m\u001b[38;5;124mdo_handshake_on_connect should not be specified for non-blocking sockets\u001b[39m\u001b[38;5;124m\"\u001b[39m)\n\u001b[1;32m-> 1040\u001b[0m         \u001b[38;5;28;43mself\u001b[39;49m\u001b[38;5;241;43m.\u001b[39;49m\u001b[43mdo_handshake\u001b[49m\u001b[43m(\u001b[49m\u001b[43m)\u001b[49m\n\u001b[0;32m   1041\u001b[0m \u001b[38;5;28;01mexcept\u001b[39;00m (\u001b[38;5;167;01mOSError\u001b[39;00m, \u001b[38;5;167;01mValueError\u001b[39;00m):\n\u001b[0;32m   1042\u001b[0m     \u001b[38;5;28mself\u001b[39m\u001b[38;5;241m.\u001b[39mclose()\n",
      "File \u001b[1;32m~\\anaconda3\\lib\\ssl.py:1309\u001b[0m, in \u001b[0;36mSSLSocket.do_handshake\u001b[1;34m(self, block)\u001b[0m\n\u001b[0;32m   1307\u001b[0m     \u001b[38;5;28;01mif\u001b[39;00m timeout \u001b[38;5;241m==\u001b[39m \u001b[38;5;241m0.0\u001b[39m \u001b[38;5;129;01mand\u001b[39;00m block:\n\u001b[0;32m   1308\u001b[0m         \u001b[38;5;28mself\u001b[39m\u001b[38;5;241m.\u001b[39msettimeout(\u001b[38;5;28;01mNone\u001b[39;00m)\n\u001b[1;32m-> 1309\u001b[0m     \u001b[38;5;28;43mself\u001b[39;49m\u001b[38;5;241;43m.\u001b[39;49m\u001b[43m_sslobj\u001b[49m\u001b[38;5;241;43m.\u001b[39;49m\u001b[43mdo_handshake\u001b[49m\u001b[43m(\u001b[49m\u001b[43m)\u001b[49m\n\u001b[0;32m   1310\u001b[0m \u001b[38;5;28;01mfinally\u001b[39;00m:\n\u001b[0;32m   1311\u001b[0m     \u001b[38;5;28mself\u001b[39m\u001b[38;5;241m.\u001b[39msettimeout(timeout)\n",
      "\u001b[1;31mKeyboardInterrupt\u001b[0m: "
     ]
    }
   ],
   "source": [
    "# for문 돌면서 크롤링\n",
    "first_check = 1\n",
    "check = 0\n",
    "\n",
    "\n",
    "while True:\n",
    "    \n",
    "    if check == 1:\n",
    "        break\n",
    "        \n",
    "    \n",
    "    link = soup.find_all('article')\n",
    "\n",
    "    \n",
    "    for i in link:\n",
    "        \n",
    "        \n",
    "        #종료\n",
    "        if idx == 300:\n",
    "            check = 1\n",
    "            break\n",
    "            \n",
    "            \n",
    "        newsTitle = i.find(class_='entry-title').get_text()\n",
    "        newsDate = i.find(class_='entry-date published updated').get_text()\n",
    "        newsURL = i.find(\"a\")[\"href\"]\n",
    "           \n",
    "        \n",
    "        insideURL = Request(newsURL, headers={'User-Agent': 'Mozilla/5.0'})\n",
    "        webpage2 = urlopen(insideURL).read()\n",
    "        soup2 = BeautifulSoup(webpage2, 'html.parser')\n",
    "        #print(soup2)\n",
    "        \n",
    "        contents2 = soup2.find('article')\n",
    "        \n",
    "        \n",
    "        content = contents2.find_all(\"p\")\n",
    "        \n",
    "        \n",
    "        #본문 담을 변수\n",
    "        real_content =''\n",
    "\n",
    "        for test in content:\n",
    "\n",
    "            real_content = real_content + test.get_text()\n",
    "        \n",
    "        \n",
    "        \n",
    "        # for문 종료 및 출력 (테스트 출력)\n",
    "        print(newsTitle)    # 제목\n",
    "        print(newsDate)     # 날짜\n",
    "        print(newsURL)      # url\n",
    "        print(real_content) # 본문\n",
    "        #Korean_content = get_translate(real_content)\n",
    "        #print(Korean_content) # 한국어 번역\n",
    "        print('\\n')\n",
    "        \n",
    "        news_dict[idx] = {'title' : newsTitle,\n",
    "                          'date' : newsDate,\n",
    "                              'url' : newsURL,\n",
    "                             'content' : real_content}\n",
    "\n",
    "        idx += 1\n",
    "        \n",
    "    page = int(page)\n",
    "    page += 1\n",
    "    page = str(page)\n",
    "    print(page)  # page 체크라 지워도 됨\n",
    "        \n",
    "    urlTicker = Request('https://www.tintucfn.com/category/business/page/' + page, headers={'User-Agent': 'Mozilla/5.0'})\n",
    "    webpage = urlopen(urlTicker).read()\n",
    "    soup = BeautifulSoup(webpage, 'html.parser')\n"
   ]
  },
  {
   "cell_type": "code",
   "execution_count": 9,
   "id": "d7960491",
   "metadata": {},
   "outputs": [
    {
     "name": "stdout",
     "output_type": "stream",
     "text": [
      "크롤링 완료\n",
      "데이터프레임 변환\n",
      "엑셀 저장 완료 | 경로 : C:\\Users\\Cyber\\Crawling\\NewsCrawling\\캄보디아 뉴스_2022-08-12_14시53분.xlsx\n"
     ]
    }
   ],
   "source": [
    "print('크롤링 완료')\n",
    "\n",
    "print('데이터프레임 변환')\n",
    "news_df = DataFrame(news_dict).T\n",
    "\n",
    "folder_path = os.getcwd()\n",
    "xlsx_file_name = '베트남 뉴스(비즈니스)_{}.xlsx'.format(date)\n",
    "\n",
    "news_df.to_excel(xlsx_file_name)\n",
    "\n",
    "print('엑셀 저장 완료 | 경로 : {}\\\\{}'.format(folder_path, xlsx_file_name))\n",
    "os.startfile(folder_path)"
   ]
  },
  {
   "cell_type": "code",
   "execution_count": null,
   "id": "28440f18",
   "metadata": {},
   "outputs": [],
   "source": []
  }
 ],
 "metadata": {
  "kernelspec": {
   "display_name": "Python 3 (ipykernel)",
   "language": "python",
   "name": "python3"
  },
  "language_info": {
   "codemirror_mode": {
    "name": "ipython",
    "version": 3
   },
   "file_extension": ".py",
   "mimetype": "text/x-python",
   "name": "python",
   "nbconvert_exporter": "python",
   "pygments_lexer": "ipython3",
   "version": "3.9.12"
  }
 },
 "nbformat": 4,
 "nbformat_minor": 5
}
